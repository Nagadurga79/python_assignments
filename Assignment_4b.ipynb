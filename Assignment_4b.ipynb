{
 "cells": [
  {
   "cell_type": "code",
   "execution_count": 12,
   "id": "d79b9cbe",
   "metadata": {},
   "outputs": [
    {
     "name": "stdout",
     "output_type": "stream",
     "text": [
      "majji vani\n"
     ]
    }
   ],
   "source": [
    "degreefrnd=('majji vani')\n",
    "print(degreefrnd)"
   ]
  },
  {
   "cell_type": "code",
   "execution_count": 1,
   "id": "488b9b1d",
   "metadata": {},
   "outputs": [
    {
     "name": "stdout",
     "output_type": "stream",
     "text": [
      "abdul ayesha\n"
     ]
    }
   ],
   "source": [
    "degreefrnd=('abdul ayesha')\n",
    "print(degreefrnd)"
   ]
  },
  {
   "cell_type": "code",
   "execution_count": 4,
   "id": "ea49427f",
   "metadata": {},
   "outputs": [
    {
     "name": "stdout",
     "output_type": "stream",
     "text": [
      "kundeti anusha\n"
     ]
    }
   ],
   "source": [
    "interanddegree=('kundeti anusha')\n",
    "print(interanddegree)"
   ]
  },
  {
   "cell_type": "code",
   "execution_count": 5,
   "id": "817ee22f",
   "metadata": {},
   "outputs": [
    {
     "name": "stdout",
     "output_type": "stream",
     "text": [
      "lanke anitha\n"
     ]
    }
   ],
   "source": [
    "childhoodfrnd=('lanke anitha')\n",
    "print(childhoodfrnd)"
   ]
  },
  {
   "cell_type": "code",
   "execution_count": 18,
   "id": "adfc1a23",
   "metadata": {},
   "outputs": [
    {
     "name": "stdout",
     "output_type": "stream",
     "text": [
      "chalamalasetti akhila\n"
     ]
    }
   ],
   "source": [
    "degreefrnd=('chalamalasetti akhila')\n",
    "print(degreefrnd)"
   ]
  },
  {
   "cell_type": "code",
   "execution_count": 19,
   "id": "988faf4f",
   "metadata": {},
   "outputs": [
    {
     "name": "stdout",
     "output_type": "stream",
     "text": [
      "sankula supraja\n"
     ]
    }
   ],
   "source": [
    "degreefrnd=('sankula supraja')\n",
    "print(degreefrnd)"
   ]
  },
  {
   "cell_type": "code",
   "execution_count": 20,
   "id": "a5cfce85",
   "metadata": {},
   "outputs": [
    {
     "name": "stdout",
     "output_type": "stream",
     "text": [
      "syamasri\n"
     ]
    }
   ],
   "source": [
    "degreefrnd=('syamasri')\n",
    "print(degreefrnd)"
   ]
  },
  {
   "cell_type": "code",
   "execution_count": 21,
   "id": "30aeb97a",
   "metadata": {},
   "outputs": [
    {
     "name": "stdout",
     "output_type": "stream",
     "text": [
      "moka divya\n"
     ]
    }
   ],
   "source": [
    "interfrnd=('moka divya')\n",
    "print(interfrnd)"
   ]
  },
  {
   "cell_type": "code",
   "execution_count": 22,
   "id": "604a31b2",
   "metadata": {},
   "outputs": [
    {
     "name": "stdout",
     "output_type": "stream",
     "text": [
      "pinisetti manasa\n"
     ]
    }
   ],
   "source": [
    "degreefrnd=('pinisetti manasa')\n",
    "print(degreefrnd)"
   ]
  },
  {
   "cell_type": "code",
   "execution_count": 23,
   "id": "cf64a56f",
   "metadata": {},
   "outputs": [
    {
     "name": "stdout",
     "output_type": "stream",
     "text": [
      "arepalli lavanya\n"
     ]
    }
   ],
   "source": [
    "degreefrnd=('arepalli lavanya')\n",
    "print(degreefrnd)"
   ]
  },
  {
   "cell_type": "code",
   "execution_count": 25,
   "id": "e213e41c",
   "metadata": {},
   "outputs": [
    {
     "name": "stdout",
     "output_type": "stream",
     "text": [
      "odugu dhanalakshmi\n"
     ]
    }
   ],
   "source": [
    "mother=('odugu dhanalakshmi')\n",
    "print(mother)"
   ]
  },
  {
   "cell_type": "code",
   "execution_count": 26,
   "id": "8593f92d",
   "metadata": {},
   "outputs": [
    {
     "name": "stdout",
     "output_type": "stream",
     "text": [
      "odugu baburao\n"
     ]
    }
   ],
   "source": [
    "father=('odugu baburao')\n",
    "print(father)"
   ]
  },
  {
   "cell_type": "code",
   "execution_count": 38,
   "id": "dd19cc53",
   "metadata": {},
   "outputs": [
    {
     "name": "stdout",
     "output_type": "stream",
     "text": [
      "odugu srinivas\n"
     ]
    }
   ],
   "source": [
    "brother=('odugu srinivas')\n",
    "print(brother)"
   ]
  },
  {
   "cell_type": "code",
   "execution_count": 39,
   "id": "c9d6f822",
   "metadata": {},
   "outputs": [
    {
     "name": "stdout",
     "output_type": "stream",
     "text": [
      "viswanadhapalli shanmukh\n"
     ]
    }
   ],
   "source": [
    "cousin=('viswanadhapalli shanmukh')\n",
    "print(cousin)"
   ]
  },
  {
   "cell_type": "code",
   "execution_count": 36,
   "id": "66a19140",
   "metadata": {},
   "outputs": [
    {
     "name": "stdout",
     "output_type": "stream",
     "text": [
      "odugu nagadurga\n"
     ]
    }
   ],
   "source": [
    "me=('odugu nagadurga')\n",
    "print(me)"
   ]
  },
  {
   "cell_type": "code",
   "execution_count": 30,
   "id": "c6ec387e",
   "metadata": {},
   "outputs": [
    {
     "name": "stdout",
     "output_type": "stream",
     "text": [
      "balagam sravani\n"
     ]
    }
   ],
   "source": [
    "sister=('balagam sravani')\n",
    "print(sister)"
   ]
  },
  {
   "cell_type": "code",
   "execution_count": 31,
   "id": "11782ebd",
   "metadata": {},
   "outputs": [
    {
     "name": "stdout",
     "output_type": "stream",
     "text": [
      "balagam kumari\n"
     ]
    }
   ],
   "source": [
    "pinni=('balagam kumari')\n",
    "print(pinni)"
   ]
  },
  {
   "cell_type": "code",
   "execution_count": 32,
   "id": "8af0112c",
   "metadata": {},
   "outputs": [
    {
     "name": "stdout",
     "output_type": "stream",
     "text": [
      "balagam yedukondalu\n"
     ]
    }
   ],
   "source": [
    "babay=('balagam yedukondalu')\n",
    "print(babay)"
   ]
  },
  {
   "cell_type": "code",
   "execution_count": 34,
   "id": "d18033e5",
   "metadata": {},
   "outputs": [
    {
     "name": "stdout",
     "output_type": "stream",
     "text": [
      " viswanadhapalli durga\n"
     ]
    }
   ],
   "source": [
    "grandmother=(' viswanadhapalli durga')\n",
    "print(grandmother)"
   ]
  },
  {
   "cell_type": "code",
   "execution_count": 35,
   "id": "7c0da414",
   "metadata": {},
   "outputs": [
    {
     "name": "stdout",
     "output_type": "stream",
     "text": [
      "viswanadhapalli subbarao\n"
     ]
    }
   ],
   "source": [
    "grandfather=('viswanadhapalli subbarao')\n",
    "print(grandfather)"
   ]
  },
  {
   "cell_type": "code",
   "execution_count": 3,
   "id": "b326bdda",
   "metadata": {},
   "outputs": [
    {
     "name": "stdout",
     "output_type": "stream",
     "text": [
      "friedrice\n"
     ]
    }
   ],
   "source": [
    "foodname1=('friedrice')\n",
    "print(foodname1)"
   ]
  },
  {
   "cell_type": "code",
   "execution_count": 7,
   "id": "78142d4d",
   "metadata": {},
   "outputs": [
    {
     "name": "stdout",
     "output_type": "stream",
     "text": [
      "icecrems\n"
     ]
    }
   ],
   "source": [
    "foodname2=('icecrems')\n",
    "print(foodname2)"
   ]
  },
  {
   "cell_type": "code",
   "execution_count": 1,
   "id": "3c4c73cf",
   "metadata": {},
   "outputs": [
    {
     "name": "stdout",
     "output_type": "stream",
     "text": [
      "chocolates\n"
     ]
    }
   ],
   "source": [
    "foodname3=('chocolates')\n",
    "print(foodname3)"
   ]
  },
  {
   "cell_type": "code",
   "execution_count": 2,
   "id": "ec57dd0a",
   "metadata": {},
   "outputs": [
    {
     "name": "stdout",
     "output_type": "stream",
     "text": [
      "panipuri\n"
     ]
    }
   ],
   "source": [
    "foodname4=('panipuri')\n",
    "print(foodname4)"
   ]
  },
  {
   "cell_type": "code",
   "execution_count": 3,
   "id": "cbc287e7",
   "metadata": {},
   "outputs": [
    {
     "name": "stdout",
     "output_type": "stream",
     "text": [
      "chickenbiryani\n"
     ]
    }
   ],
   "source": [
    "foodname5=('chickenbiryani')\n",
    "print(foodname5)"
   ]
  },
  {
   "cell_type": "code",
   "execution_count": 4,
   "id": "fd197d90",
   "metadata": {},
   "outputs": [
    {
     "name": "stdout",
     "output_type": "stream",
     "text": [
      "butternon\n"
     ]
    }
   ],
   "source": [
    "foodname6=('butternon')\n",
    "print(foodname6)"
   ]
  },
  {
   "cell_type": "code",
   "execution_count": 5,
   "id": "7de7bd1a",
   "metadata": {},
   "outputs": [
    {
     "name": "stdout",
     "output_type": "stream",
     "text": [
      "eggdosa\n"
     ]
    }
   ],
   "source": [
    "foodname7=('eggdosa')\n",
    "print(foodname7)"
   ]
  },
  {
   "cell_type": "code",
   "execution_count": 6,
   "id": "cfd9b781",
   "metadata": {},
   "outputs": [
    {
     "name": "stdout",
     "output_type": "stream",
     "text": [
      "eggmasala\n"
     ]
    }
   ],
   "source": [
    "foodname8=('eggmasala')\n",
    "print(foodname8)"
   ]
  },
  {
   "cell_type": "code",
   "execution_count": 8,
   "id": "8978afef",
   "metadata": {},
   "outputs": [
    {
     "name": "stdout",
     "output_type": "stream",
     "text": [
      "vegbiryani\n"
     ]
    }
   ],
   "source": [
    "foodname9=('vegbiryani')\n",
    "print(foodname9)"
   ]
  },
  {
   "cell_type": "code",
   "execution_count": 9,
   "id": "a0566696",
   "metadata": {},
   "outputs": [
    {
     "name": "stdout",
     "output_type": "stream",
     "text": [
      "chickennoodles\n"
     ]
    }
   ],
   "source": [
    "foodname10=('chickennoodles')\n",
    "print(foodname10)"
   ]
  },
  {
   "cell_type": "code",
   "execution_count": 10,
   "id": "ad304364",
   "metadata": {},
   "outputs": [
    {
     "name": "stdout",
     "output_type": "stream",
     "text": [
      "black\n"
     ]
    }
   ],
   "source": [
    "colour1=('black')\n",
    "print(colour1)"
   ]
  },
  {
   "cell_type": "code",
   "execution_count": 11,
   "id": "98490120",
   "metadata": {},
   "outputs": [
    {
     "name": "stdout",
     "output_type": "stream",
     "text": [
      "blue\n"
     ]
    }
   ],
   "source": [
    "colour2=('blue')\n",
    "print(colour2)"
   ]
  },
  {
   "cell_type": "code",
   "execution_count": 12,
   "id": "4c1be97e",
   "metadata": {},
   "outputs": [
    {
     "name": "stdout",
     "output_type": "stream",
     "text": [
      "maroon\n"
     ]
    }
   ],
   "source": [
    "colour3=('maroon')\n",
    "print(colour3)"
   ]
  },
  {
   "cell_type": "code",
   "execution_count": 13,
   "id": "c8bd9bf3",
   "metadata": {},
   "outputs": [
    {
     "name": "stdout",
     "output_type": "stream",
     "text": [
      "red\n"
     ]
    }
   ],
   "source": [
    "colour4=('red')\n",
    "print(colour4)"
   ]
  },
  {
   "cell_type": "code",
   "execution_count": 14,
   "id": "4c504b3b",
   "metadata": {},
   "outputs": [
    {
     "name": "stdout",
     "output_type": "stream",
     "text": [
      "yellow\n"
     ]
    }
   ],
   "source": [
    "colour5=('yellow')\n",
    "print(colour5)"
   ]
  },
  {
   "cell_type": "code",
   "execution_count": 15,
   "id": "d8166c3f",
   "metadata": {},
   "outputs": [
    {
     "name": "stdout",
     "output_type": "stream",
     "text": [
      "green\n"
     ]
    }
   ],
   "source": [
    "colour6=('green')\n",
    "print(colour6)"
   ]
  },
  {
   "cell_type": "code",
   "execution_count": 16,
   "id": "54a5a4ff",
   "metadata": {},
   "outputs": [
    {
     "name": "stdout",
     "output_type": "stream",
     "text": [
      "white\n"
     ]
    }
   ],
   "source": [
    "colour7=('white')\n",
    "print(colour7)"
   ]
  },
  {
   "cell_type": "code",
   "execution_count": 17,
   "id": "13850502",
   "metadata": {},
   "outputs": [
    {
     "name": "stdout",
     "output_type": "stream",
     "text": [
      "skyblue\n"
     ]
    }
   ],
   "source": [
    "colour8=('skyblue')\n",
    "print(colour8)"
   ]
  },
  {
   "cell_type": "code",
   "execution_count": 18,
   "id": "f0cb420a",
   "metadata": {},
   "outputs": [
    {
     "name": "stdout",
     "output_type": "stream",
     "text": [
      "orange\n"
     ]
    }
   ],
   "source": [
    "colour9=('orange')\n",
    "print(colour9)"
   ]
  },
  {
   "cell_type": "code",
   "execution_count": 19,
   "id": "4e8c6bd0",
   "metadata": {},
   "outputs": [
    {
     "name": "stdout",
     "output_type": "stream",
     "text": [
      "pink\n"
     ]
    }
   ],
   "source": [
    "colour10=('pink')\n",
    "print(colour10)"
   ]
  },
  {
   "cell_type": "code",
   "execution_count": 1,
   "id": "6ede2ee8",
   "metadata": {},
   "outputs": [
    {
     "name": "stdout",
     "output_type": "stream",
     "text": [
      "january\n"
     ]
    }
   ],
   "source": [
    "month1=('january')\n",
    "print(month1)"
   ]
  },
  {
   "cell_type": "code",
   "execution_count": 2,
   "id": "254de1f2",
   "metadata": {},
   "outputs": [
    {
     "name": "stdout",
     "output_type": "stream",
     "text": [
      "february\n"
     ]
    }
   ],
   "source": [
    "month2=('february')\n",
    "print(month2)"
   ]
  },
  {
   "cell_type": "code",
   "execution_count": 3,
   "id": "9dcf8849",
   "metadata": {},
   "outputs": [
    {
     "name": "stdout",
     "output_type": "stream",
     "text": [
      "march\n"
     ]
    }
   ],
   "source": [
    "month3=('march')\n",
    "print(month3)"
   ]
  },
  {
   "cell_type": "code",
   "execution_count": 5,
   "id": "83787db4",
   "metadata": {},
   "outputs": [
    {
     "name": "stdout",
     "output_type": "stream",
     "text": [
      "april\n"
     ]
    }
   ],
   "source": [
    "month4=('april')\n",
    "print(month4)"
   ]
  },
  {
   "cell_type": "code",
   "execution_count": 6,
   "id": "3224128f",
   "metadata": {},
   "outputs": [
    {
     "name": "stdout",
     "output_type": "stream",
     "text": [
      "may\n"
     ]
    }
   ],
   "source": [
    "month5=('may')\n",
    "print(month5)"
   ]
  },
  {
   "cell_type": "code",
   "execution_count": 7,
   "id": "0ea2c35b",
   "metadata": {},
   "outputs": [
    {
     "name": "stdout",
     "output_type": "stream",
     "text": [
      "june\n"
     ]
    }
   ],
   "source": [
    "month6=('june')\n",
    "print(month6)"
   ]
  },
  {
   "cell_type": "code",
   "execution_count": 8,
   "id": "89ffb54b",
   "metadata": {},
   "outputs": [
    {
     "name": "stdout",
     "output_type": "stream",
     "text": [
      "july\n"
     ]
    }
   ],
   "source": [
    "month7=('july')\n",
    "print(month7)"
   ]
  },
  {
   "cell_type": "code",
   "execution_count": 10,
   "id": "0aaced77",
   "metadata": {},
   "outputs": [
    {
     "name": "stdout",
     "output_type": "stream",
     "text": [
      "august\n"
     ]
    }
   ],
   "source": [
    "month8=('august')\n",
    "print(month8)"
   ]
  },
  {
   "cell_type": "code",
   "execution_count": 11,
   "id": "a04eef50",
   "metadata": {},
   "outputs": [
    {
     "name": "stdout",
     "output_type": "stream",
     "text": [
      "september\n"
     ]
    }
   ],
   "source": [
    "month9=('september')\n",
    "print(month9)"
   ]
  },
  {
   "cell_type": "code",
   "execution_count": 12,
   "id": "9e8bb69c",
   "metadata": {},
   "outputs": [
    {
     "name": "stdout",
     "output_type": "stream",
     "text": [
      "october\n"
     ]
    }
   ],
   "source": [
    "month10=('october')\n",
    "print(month10)"
   ]
  },
  {
   "cell_type": "code",
   "execution_count": 13,
   "id": "bf7e191f",
   "metadata": {},
   "outputs": [
    {
     "name": "stdout",
     "output_type": "stream",
     "text": [
      "november\n"
     ]
    }
   ],
   "source": [
    "month11=('november')\n",
    "print(month11)"
   ]
  },
  {
   "cell_type": "code",
   "execution_count": 14,
   "id": "470e2b5e",
   "metadata": {},
   "outputs": [
    {
     "name": "stdout",
     "output_type": "stream",
     "text": [
      "december\n"
     ]
    }
   ],
   "source": [
    "month12=('december')\n",
    "print(month12)"
   ]
  },
  {
   "cell_type": "code",
   "execution_count": 15,
   "id": "6eb54254",
   "metadata": {},
   "outputs": [
    {
     "name": "stdout",
     "output_type": "stream",
     "text": [
      "cricket\n"
     ]
    }
   ],
   "source": [
    "game1=('cricket')\n",
    "print(game1)"
   ]
  },
  {
   "cell_type": "code",
   "execution_count": 16,
   "id": "760cc63e",
   "metadata": {},
   "outputs": [
    {
     "name": "stdout",
     "output_type": "stream",
     "text": [
      "kabaddi\n"
     ]
    }
   ],
   "source": [
    "game2=('kabaddi')\n",
    "print(game2)"
   ]
  },
  {
   "cell_type": "code",
   "execution_count": 17,
   "id": "9cd6b67e",
   "metadata": {},
   "outputs": [
    {
     "name": "stdout",
     "output_type": "stream",
     "text": [
      "hockey\n"
     ]
    }
   ],
   "source": [
    "game3=('hockey')\n",
    "print(game3)"
   ]
  },
  {
   "cell_type": "code",
   "execution_count": 18,
   "id": "253a2ca5",
   "metadata": {},
   "outputs": [
    {
     "name": "stdout",
     "output_type": "stream",
     "text": [
      "ko-ko\n"
     ]
    }
   ],
   "source": [
    "game4=('ko-ko')\n",
    "print(game4)"
   ]
  },
  {
   "cell_type": "code",
   "execution_count": 19,
   "id": "395e6006",
   "metadata": {},
   "outputs": [
    {
     "name": "stdout",
     "output_type": "stream",
     "text": [
      "football\n"
     ]
    }
   ],
   "source": [
    "game5=('football')\n",
    "print(game5)"
   ]
  },
  {
   "cell_type": "code",
   "execution_count": 20,
   "id": "ee3414d0",
   "metadata": {},
   "outputs": [
    {
     "name": "stdout",
     "output_type": "stream",
     "text": [
      "volleyball\n"
     ]
    }
   ],
   "source": [
    "game6=('volleyball')\n",
    "print(game6)"
   ]
  },
  {
   "cell_type": "code",
   "execution_count": 21,
   "id": "d46e7551",
   "metadata": {},
   "outputs": [
    {
     "name": "stdout",
     "output_type": "stream",
     "text": [
      "shuttle\n"
     ]
    }
   ],
   "source": [
    "game7=('shuttle')\n",
    "print(game7)"
   ]
  },
  {
   "cell_type": "code",
   "execution_count": 22,
   "id": "a3496896",
   "metadata": {},
   "outputs": [
    {
     "name": "stdout",
     "output_type": "stream",
     "text": [
      "tennis\n"
     ]
    }
   ],
   "source": [
    "game8=('tennis')\n",
    "print(game8)"
   ]
  },
  {
   "cell_type": "code",
   "execution_count": 23,
   "id": "4e2767b2",
   "metadata": {},
   "outputs": [
    {
     "name": "stdout",
     "output_type": "stream",
     "text": [
      "badminton\n"
     ]
    }
   ],
   "source": [
    "game9=('badminton')\n",
    "print(game9)"
   ]
  },
  {
   "cell_type": "code",
   "execution_count": 24,
   "id": "eed6d313",
   "metadata": {},
   "outputs": [
    {
     "name": "stdout",
     "output_type": "stream",
     "text": [
      "tabletennis\n"
     ]
    }
   ],
   "source": [
    "game10=('tabletennis')\n",
    "print(game10)"
   ]
  },
  {
   "cell_type": "code",
   "execution_count": 25,
   "id": "4fcd44fc",
   "metadata": {},
   "outputs": [
    {
     "name": "stdout",
     "output_type": "stream",
     "text": [
      "machilipatnam\n"
     ]
    }
   ],
   "source": [
    "city1=('machilipatnam')\n",
    "print(city1)"
   ]
  },
  {
   "cell_type": "code",
   "execution_count": 26,
   "id": "16f1ec55",
   "metadata": {},
   "outputs": [
    {
     "name": "stdout",
     "output_type": "stream",
     "text": [
      "vijayawada\n"
     ]
    }
   ],
   "source": [
    "city2=('vijayawada')\n",
    "print(city2)"
   ]
  },
  {
   "cell_type": "code",
   "execution_count": 28,
   "id": "0a2ae092",
   "metadata": {},
   "outputs": [
    {
     "name": "stdout",
     "output_type": "stream",
     "text": [
      "hyderabad\n"
     ]
    }
   ],
   "source": [
    "city3=('hyderabad')\n",
    "print(city3)"
   ]
  },
  {
   "cell_type": "code",
   "execution_count": 29,
   "id": "f0a5af5b",
   "metadata": {},
   "outputs": [
    {
     "name": "stdout",
     "output_type": "stream",
     "text": [
      "bengaloore\n"
     ]
    }
   ],
   "source": [
    "city4=('bengaloore')\n",
    "print(city4)"
   ]
  },
  {
   "cell_type": "code",
   "execution_count": 30,
   "id": "ba61257e",
   "metadata": {},
   "outputs": [
    {
     "name": "stdout",
     "output_type": "stream",
     "text": [
      "mumbai\n"
     ]
    }
   ],
   "source": [
    "city5=('mumbai')\n",
    "print(city5)"
   ]
  },
  {
   "cell_type": "code",
   "execution_count": 34,
   "id": "7a70219d",
   "metadata": {},
   "outputs": [
    {
     "name": "stdout",
     "output_type": "stream",
     "text": [
      "chennai\n"
     ]
    }
   ],
   "source": [
    "city6=('chennai')\n",
    "print(city6)"
   ]
  },
  {
   "cell_type": "code",
   "execution_count": 35,
   "id": "3a0c72cb",
   "metadata": {},
   "outputs": [
    {
     "name": "stdout",
     "output_type": "stream",
     "text": [
      "kolkata\n"
     ]
    }
   ],
   "source": [
    "city7=('kolkata')\n",
    "print(city7)"
   ]
  },
  {
   "cell_type": "code",
   "execution_count": 36,
   "id": "815df034",
   "metadata": {},
   "outputs": [
    {
     "name": "stdout",
     "output_type": "stream",
     "text": [
      "pune\n"
     ]
    }
   ],
   "source": [
    "city8=('pune')\n",
    "print(city8)"
   ]
  },
  {
   "cell_type": "code",
   "execution_count": 37,
   "id": "f05cef30",
   "metadata": {},
   "outputs": [
    {
     "name": "stdout",
     "output_type": "stream",
     "text": [
      "delhi\n"
     ]
    }
   ],
   "source": [
    "city9=('delhi')\n",
    "print(city9)"
   ]
  },
  {
   "cell_type": "code",
   "execution_count": 38,
   "id": "7198b1e8",
   "metadata": {},
   "outputs": [
    {
     "name": "stdout",
     "output_type": "stream",
     "text": [
      "agra\n"
     ]
    }
   ],
   "source": [
    "city10=('agra')\n",
    "print(city10)"
   ]
  },
  {
   "cell_type": "code",
   "execution_count": 2,
   "id": "1a6b1149",
   "metadata": {},
   "outputs": [
    {
     "name": "stdout",
     "output_type": "stream",
     "text": [
      "['ayesha', 'vani', 'anusha', 'akhila', 'supraja', 'syamasri', 'lavanya', 'manasa', 'mary', 'meghana']\n"
     ]
    }
   ],
   "source": [
    "lst=['ayesha','vani','anusha','akhila','supraja','syamasri','lavanya','manasa','mary','meghana']\n",
    "print(lst)"
   ]
  },
  {
   "cell_type": "code",
   "execution_count": 3,
   "id": "def1d742",
   "metadata": {},
   "outputs": [
    {
     "name": "stdout",
     "output_type": "stream",
     "text": [
      "('baburao', 'dhanalakshmi', 'srinivas', 'sravani', 'nagadurga', 'gayathri', 'kumari', 'yedukondalu', 'durga', 'subbarao')\n"
     ]
    }
   ],
   "source": [
    "tup=('baburao','dhanalakshmi','srinivas','sravani','nagadurga','gayathri','kumari','yedukondalu','durga','subbarao')\n",
    "print(tup)"
   ]
  },
  {
   "cell_type": "code",
   "execution_count": 8,
   "id": "ae8985dc",
   "metadata": {},
   "outputs": [
    {
     "name": "stdout",
     "output_type": "stream",
     "text": [
      "{'maroon', 'green', 'yellow', 'white', 'pink', 'red', 'blue', 'black', 'skyblue', 'navi-blue'}\n"
     ]
    }
   ],
   "source": [
    "set={'maroon','black','blue','white','pink','red','navi-blue','yellow','skyblue','green'}\n",
    "print(set)"
   ]
  },
  {
   "cell_type": "code",
   "execution_count": 1,
   "id": "c88dc26a",
   "metadata": {},
   "outputs": [
    {
     "name": "stdout",
     "output_type": "stream",
     "text": [
      "[1, 9, 10, 5, 3, 2, 7, 8, 6, 4]\n"
     ]
    }
   ],
   "source": [
    "months_names=[1,9,10,5,3,2,7,8,6,4]\n",
    "print(months_names)"
   ]
  },
  {
   "cell_type": "code",
   "execution_count": 2,
   "id": "5a230f75",
   "metadata": {},
   "outputs": [
    {
     "data": {
      "text/plain": [
       "{1, 2, 3, 4, 5, 6, 7, 8, 9, 10}"
      ]
     },
     "execution_count": 2,
     "metadata": {},
     "output_type": "execute_result"
    }
   ],
   "source": [
    "seq_set=set(months_names)\n",
    "seq_set"
   ]
  },
  {
   "cell_type": "code",
   "execution_count": 3,
   "id": "a2c460ec",
   "metadata": {},
   "outputs": [
    {
     "name": "stdout",
     "output_type": "stream",
     "text": [
      "['chiru', 'balayya', 'nag', 'venky', 'powerstar', 'ntr', 'ramcharan']\n",
      "['chiranjeevi', 'balakrishna', 'nagarjuna', 'venkatesh', 'pawankalyan', 'Nt ramarao', 'ramcharan']\n"
     ]
    }
   ],
   "source": [
    "tollywood_heros=['chiru','balayya','nag' ,'venky','powerstar','ntr','ramcharan']\n",
    "print(tollywood_heros)\n",
    "tollywood_heros[0:7]=['chiranjeevi','balakrishna','nagarjuna','venkatesh','pawankalyan','Nt ramarao','ramcharan']\n",
    "print(tollywood_heros)\n",
    "# naga=tollywood_heros[0]\n"
   ]
  },
  {
   "cell_type": "code",
   "execution_count": null,
   "id": "8772335d",
   "metadata": {},
   "outputs": [],
   "source": [
    "bollywood_heros={'sharukhan','salmankhan','salmankhan','amirkhan','hrithikroshan','amitab bachan','akshaykumar','amirkhan'}"
   ]
  },
  {
   "cell_type": "code",
   "execution_count": 18,
   "id": "0a1dda2f",
   "metadata": {},
   "outputs": [
    {
     "name": "stdout",
     "output_type": "stream",
     "text": [
      "{'amithab bachan', 'hrithikroshan', 'akshay kumar', 'sharukhan', 'amirkhan', 'salmankhan'}\n"
     ]
    }
   ],
   "source": [
    "print(bollywood_heros)"
   ]
  },
  {
   "cell_type": "code",
   "execution_count": 2,
   "id": "43b701a8",
   "metadata": {},
   "outputs": [],
   "source": [
    "breakfast_item=['eggdosa',\"bajji\",\"edly\",\"upma\",\"puri\",\"chepathi\"]\n"
   ]
  },
  {
   "cell_type": "code",
   "execution_count": 6,
   "id": "c7e2c2a2",
   "metadata": {},
   "outputs": [
    {
     "data": {
      "text/plain": [
       "['eggdosa', 'bajji', 'edly', 'upma', 'puri', 'chepathi']"
      ]
     },
     "execution_count": 6,
     "metadata": {},
     "output_type": "execute_result"
    }
   ],
   "source": [
    "breakfast_item"
   ]
  },
  {
   "cell_type": "code",
   "execution_count": 7,
   "id": "4d76a792",
   "metadata": {},
   "outputs": [
    {
     "name": "stdout",
     "output_type": "stream",
     "text": [
      "my favourite breakfast item is eggdosa\n"
     ]
    }
   ],
   "source": [
    "print('my favourite breakfast item is',breakfast_item[0])"
   ]
  },
  {
   "cell_type": "code",
   "execution_count": null,
   "id": "db9238d0",
   "metadata": {},
   "outputs": [],
   "source": [
    "\n"
   ]
  },
  {
   "cell_type": "code",
   "execution_count": null,
   "id": "eb4ba0d4",
   "metadata": {},
   "outputs": [],
   "source": []
  },
  {
   "cell_type": "code",
   "execution_count": null,
   "id": "e4bb3d65",
   "metadata": {},
   "outputs": [],
   "source": []
  }
 ],
 "metadata": {
  "kernelspec": {
   "display_name": "Python 3 (ipykernel)",
   "language": "python",
   "name": "python3"
  },
  "language_info": {
   "codemirror_mode": {
    "name": "ipython",
    "version": 3
   },
   "file_extension": ".py",
   "mimetype": "text/x-python",
   "name": "python",
   "nbconvert_exporter": "python",
   "pygments_lexer": "ipython3",
   "version": "3.10.9"
  }
 },
 "nbformat": 4,
 "nbformat_minor": 5
}
