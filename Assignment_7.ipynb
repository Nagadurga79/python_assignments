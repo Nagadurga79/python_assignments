{
 "cells": [
  {
   "cell_type": "code",
   "execution_count": 1,
   "id": "c6b17382",
   "metadata": {},
   "outputs": [],
   "source": [
    "#scenario1:\n",
    "def creditcard_offer(credit_limit,salary):\n",
    "    if salary<10000:\n",
    "        credit_limit=salary*10\n",
    "        \n",
    "    elif salary>=10000 and salary<=30000:\n",
    "        credit_limit=salary*20\n",
    "\n",
    "    else:\n",
    "        salary>30000\n",
    "        credit_limit=salary*30\n",
    "        \n",
    "    return credit_limit        \n",
    "    \n",
    "            \n",
    "    "
   ]
  },
  {
   "cell_type": "code",
   "execution_count": 5,
   "id": "5213cbad",
   "metadata": {},
   "outputs": [
    {
     "data": {
      "text/plain": [
       "1200000"
      ]
     },
     "execution_count": 5,
     "metadata": {},
     "output_type": "execute_result"
    }
   ],
   "source": [
    "creditcard_offer(10,40000)"
   ]
  },
  {
   "cell_type": "code",
   "execution_count": 6,
   "id": "d5a0e3e2",
   "metadata": {},
   "outputs": [
    {
     "data": {
      "text/plain": [
       "1200000"
      ]
     },
     "execution_count": 6,
     "metadata": {},
     "output_type": "execute_result"
    }
   ],
   "source": [
    "40000*30"
   ]
  },
  {
   "cell_type": "code",
   "execution_count": 2,
   "id": "14082b78",
   "metadata": {},
   "outputs": [],
   "source": [
    "def demartdiscount_offer(purchase_amount):\n",
    "    if purchase_amount<20000:\n",
    "        discount=purchase_amount*.20\n",
    "    elif purchase_amount>=20000 and purchase_amount<=40000:\n",
    "        discount=purchase_amount*.30\n",
    "    else:\n",
    "        purchase_amount>50000\n",
    "        discount=purchase_amount*.40\n",
    "    return discount        \n"
   ]
  },
  {
   "cell_type": "code",
   "execution_count": 3,
   "id": "269ece8d",
   "metadata": {},
   "outputs": [
    {
     "data": {
      "text/plain": [
       "24000.0"
      ]
     },
     "execution_count": 3,
     "metadata": {},
     "output_type": "execute_result"
    }
   ],
   "source": [
    "demartdiscount_offer(60000)"
   ]
  },
  {
   "cell_type": "code",
   "execution_count": 4,
   "id": "c8f932a3",
   "metadata": {},
   "outputs": [
    {
     "data": {
      "text/plain": [
       "9000.0"
      ]
     },
     "execution_count": 4,
     "metadata": {},
     "output_type": "execute_result"
    }
   ],
   "source": [
    "demartdiscount_offer(30000)"
   ]
  },
  {
   "cell_type": "code",
   "execution_count": 5,
   "id": "42cd9414",
   "metadata": {},
   "outputs": [
    {
     "data": {
      "text/plain": [
       "9000.0"
      ]
     },
     "execution_count": 5,
     "metadata": {},
     "output_type": "execute_result"
    }
   ],
   "source": [
    "30000*30/100"
   ]
  },
  {
   "cell_type": "code",
   "execution_count": 7,
   "id": "9c8e7d9d",
   "metadata": {},
   "outputs": [
    {
     "data": {
      "text/plain": [
       "100.0"
      ]
     },
     "execution_count": 7,
     "metadata": {},
     "output_type": "execute_result"
    }
   ],
   "source": [
    "1000*10/100"
   ]
  },
  {
   "cell_type": "code",
   "execution_count": 8,
   "id": "44a1a529",
   "metadata": {},
   "outputs": [
    {
     "data": {
      "text/plain": [
       "3000.0"
      ]
     },
     "execution_count": 8,
     "metadata": {},
     "output_type": "execute_result"
    }
   ],
   "source": [
    "30000*10/100"
   ]
  },
  {
   "cell_type": "code",
   "execution_count": 6,
   "id": "bbfb08e8",
   "metadata": {},
   "outputs": [
    {
     "data": {
      "text/plain": [
       "2000.0"
      ]
     },
     "execution_count": 6,
     "metadata": {},
     "output_type": "execute_result"
    }
   ],
   "source": [
    "10000*20/100"
   ]
  },
  {
   "cell_type": "code",
   "execution_count": 33,
   "id": "9bac0857",
   "metadata": {},
   "outputs": [
    {
     "data": {
      "text/plain": [
       "20000.0"
      ]
     },
     "execution_count": 33,
     "metadata": {},
     "output_type": "execute_result"
    }
   ],
   "source": [
    "50000*40/100"
   ]
  },
  {
   "cell_type": "code",
   "execution_count": 9,
   "id": "81670780",
   "metadata": {},
   "outputs": [],
   "source": [
    "def Amazononline_offer(product_type,amount):\n",
    "    if product_type=='electronic':\n",
    "        discount=amount*.20\n",
    "    elif product_type=='cloth':\n",
    "        discount=amount*.30\n",
    "    else:\n",
    "        product_type=='footware'\n",
    "        discount=amount*.40\n",
    "    return discount    "
   ]
  },
  {
   "cell_type": "code",
   "execution_count": 10,
   "id": "0c8480a0",
   "metadata": {},
   "outputs": [
    {
     "data": {
      "text/plain": [
       "200.0"
      ]
     },
     "execution_count": 10,
     "metadata": {},
     "output_type": "execute_result"
    }
   ],
   "source": [
    "Amazononline_offer('electronic',1000)"
   ]
  },
  {
   "cell_type": "code",
   "execution_count": 11,
   "id": "2efade54",
   "metadata": {},
   "outputs": [],
   "source": [
    "def Amazononline_offer(product_type,amount):\n",
    "    if amount==2000:\n",
    "        product_type=\"electronic\"\n",
    "    \n",
    "        discount=amount*.20\n",
    "    elif amount==3000:\n",
    "        product_type=\"cloth\"\n",
    "        discount=amount*.30\n",
    "    else:\n",
    "        amount==4000\n",
    "        product_type=\"footware\"\n",
    "        discount=amount*.40\n",
    "    return discount   "
   ]
  },
  {
   "cell_type": "code",
   "execution_count": 13,
   "id": "ff44ecd5",
   "metadata": {},
   "outputs": [
    {
     "data": {
      "text/plain": [
       "1600.0"
      ]
     },
     "execution_count": 13,
     "metadata": {},
     "output_type": "execute_result"
    }
   ],
   "source": [
    " Amazononline_offer('footware',4000)"
   ]
  },
  {
   "cell_type": "code",
   "execution_count": 54,
   "id": "bf315770",
   "metadata": {},
   "outputs": [
    {
     "data": {
      "text/plain": [
       "900.0"
      ]
     },
     "execution_count": 54,
     "metadata": {},
     "output_type": "execute_result"
    }
   ],
   "source": [
    "3000*30/100"
   ]
  },
  {
   "cell_type": "code",
   "execution_count": 70,
   "id": "fab07cb5",
   "metadata": {},
   "outputs": [
    {
     "data": {
      "text/plain": [
       "1600.0"
      ]
     },
     "execution_count": 70,
     "metadata": {},
     "output_type": "execute_result"
    }
   ],
   "source": [
    "4000*40/100"
   ]
  },
  {
   "cell_type": "code",
   "execution_count": 21,
   "id": "a21e26d0",
   "metadata": {},
   "outputs": [],
   "source": [
    "def Amazononline_offer(product_type,amount):\n",
    "    if amount==2000:\n",
    "        product_type=\"electronic\"\n",
    "        discount=amount*.20\n",
    "    elif amount==3000:\n",
    "        product_type=\"cloth\"\n",
    "        discount=amount*.30\n",
    "    else:\n",
    "        amount==4000\n",
    "        product_type=\"footware\"\n",
    "        discount=amount*.40\n",
    "    return product_type   "
   ]
  },
  {
   "cell_type": "code",
   "execution_count": 23,
   "id": "4672faca",
   "metadata": {},
   "outputs": [
    {
     "data": {
      "text/plain": [
       "'cloth'"
      ]
     },
     "execution_count": 23,
     "metadata": {},
     "output_type": "execute_result"
    }
   ],
   "source": [
    "Amazononline_offer('cloth',3000)"
   ]
  },
  {
   "cell_type": "code",
   "execution_count": 2,
   "id": "18687750",
   "metadata": {},
   "outputs": [
    {
     "data": {
      "text/plain": [
       "200.0"
      ]
     },
     "execution_count": 2,
     "metadata": {},
     "output_type": "execute_result"
    }
   ],
   "source": [
    "2000*10/100"
   ]
  },
  {
   "cell_type": "code",
   "execution_count": 8,
   "id": "106ea7b3",
   "metadata": {},
   "outputs": [],
   "source": [
    "def restaurent(item,price):\n",
    "    if price>=200:\n",
    "        if item==\"chicken_biryani\":\n",
    "            print(\"non_veg\")\n",
    "        elif item==\"prawns_biryani\":\n",
    "            print(\"non_veg\")\n",
    "        elif item==\"mutton_biryani\":\n",
    "            print(\"non_veg\")\n",
    "           \n",
    "    elif price<=200: \n",
    "        print(\"veg_item\")\n",
    "    else:\n",
    "        print(\"not available\")\n",
    "    return (item)\n",
    "        \n",
    "    "
   ]
  },
  {
   "cell_type": "code",
   "execution_count": 14,
   "id": "0ae9048c",
   "metadata": {},
   "outputs": [
    {
     "name": "stdout",
     "output_type": "stream",
     "text": [
      "veg_item\n"
     ]
    },
    {
     "data": {
      "text/plain": [
       "'egg'"
      ]
     },
     "execution_count": 14,
     "metadata": {},
     "output_type": "execute_result"
    }
   ],
   "source": [
    "restaurent(\"egg\",199)"
   ]
  },
  {
   "cell_type": "code",
   "execution_count": null,
   "id": "7efabce4",
   "metadata": {},
   "outputs": [],
   "source": []
  },
  {
   "cell_type": "code",
   "execution_count": null,
   "id": "ef392b9f",
   "metadata": {},
   "outputs": [],
   "source": []
  },
  {
   "cell_type": "code",
   "execution_count": null,
   "id": "0892610e",
   "metadata": {},
   "outputs": [],
   "source": []
  },
  {
   "cell_type": "code",
   "execution_count": null,
   "id": "4187b007",
   "metadata": {},
   "outputs": [],
   "source": []
  }
 ],
 "metadata": {
  "kernelspec": {
   "display_name": "Python 3 (ipykernel)",
   "language": "python",
   "name": "python3"
  },
  "language_info": {
   "codemirror_mode": {
    "name": "ipython",
    "version": 3
   },
   "file_extension": ".py",
   "mimetype": "text/x-python",
   "name": "python",
   "nbconvert_exporter": "python",
   "pygments_lexer": "ipython3",
   "version": "3.10.9"
  }
 },
 "nbformat": 4,
 "nbformat_minor": 5
}
