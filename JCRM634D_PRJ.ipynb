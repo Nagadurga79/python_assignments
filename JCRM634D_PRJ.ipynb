{
 "cells": [
  {
   "cell_type": "code",
   "execution_count": null,
   "id": "af1d7835",
   "metadata": {},
   "outputs": [],
   "source": [
    "MEDB_OPPORTUNITY---------CORE_WORKDB.MEDB_OPEN_PATGRP"
   ]
  },
  {
   "cell_type": "code",
   "execution_count": null,
   "id": "284142f2",
   "metadata": {},
   "outputs": [],
   "source": [
    "MEDB_OPPORTUNITY_M=CORE_WORKDB.MEDB_OPEN_PATGRP(MEDB_OPPORTUNITY) merge MEMBER_CURRENT |MEDB_MEMBER_CURRENT_PATGRP\n",
    "MEMBER_CURRENT_DOD_M=MEDB_OPPORTUNITY_M merge (MEMBER_CURRENT_DOD)                                          |"
   ]
  },
  {
   "cell_type": "code",
   "execution_count": null,
   "id": "9b3dcad0",
   "metadata": {},
   "outputs": [],
   "source": [
    "MEDB_MEMBER_CURRENT_PATGRP=MEMBER_CURRENT_DOD_M[()]"
   ]
  },
  {
   "cell_type": "code",
   "execution_count": null,
   "id": "cf88a33d",
   "metadata": {},
   "outputs": [],
   "source": []
  }
 ],
 "metadata": {
  "kernelspec": {
   "display_name": "Python 3 (ipykernel)",
   "language": "python",
   "name": "python3"
  },
  "language_info": {
   "codemirror_mode": {
    "name": "ipython",
    "version": 3
   },
   "file_extension": ".py",
   "mimetype": "text/x-python",
   "name": "python",
   "nbconvert_exporter": "python",
   "pygments_lexer": "ipython3",
   "version": "3.10.9"
  }
 },
 "nbformat": 4,
 "nbformat_minor": 5
}
