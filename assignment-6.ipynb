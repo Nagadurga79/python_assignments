{
 "cells": [
  {
   "cell_type": "code",
   "execution_count": 3,
   "id": "90826077",
   "metadata": {},
   "outputs": [
    {
     "name": "stdout",
     "output_type": "stream",
     "text": [
      "my friend name is vani\n",
      "my friend name is ayesha\n",
      "my friend name is anusha\n",
      "my friend name is anitha\n",
      "my friend name is manasa\n",
      "my friend name is akhila\n",
      "my friend name is supraja\n",
      "my friend name is syamasri\n",
      "my friend name is lavanya\n",
      "my friend name is mary\n"
     ]
    }
   ],
   "source": [
    "friend_names=['vani','ayesha','anusha','anitha','manasa','akhila','supraja','syamasri','lavanya','mary']\n",
    "for n in friend_names:\n",
    "    print('my friend name is',n)"
   ]
  },
  {
   "cell_type": "code",
   "execution_count": 5,
   "id": "17d02ec7",
   "metadata": {},
   "outputs": [
    {
     "name": "stdout",
     "output_type": "stream",
     "text": [
      "baburao\n",
      "dahnalakshmi\n",
      "srinivas\n",
      "sravani\n",
      "kumari\n",
      "yedukondalu\n",
      "gayathri\n",
      "radha\n",
      "durga\n",
      "subbarao\n"
     ]
    }
   ],
   "source": [
    "family_names=['baburao','dahnalakshmi','srinivas','sravani','kumari','yedukondalu','gayathri','radha','durga','subbarao']\n",
    "for n in family_names:\n",
    "    print(n)"
   ]
  },
  {
   "cell_type": "code",
   "execution_count": 6,
   "id": "888ec5bf",
   "metadata": {},
   "outputs": [
    {
     "name": "stdout",
     "output_type": "stream",
     "text": [
      "chicken_friedrice\n",
      "veg_friedrice\n",
      "chicken_biryani\n",
      "veg_biryani\n",
      "icecreams\n",
      "juices\n",
      "chocolates\n",
      "egg_dosa\n",
      "egg_masala\n",
      "panipuri\n"
     ]
    }
   ],
   "source": [
    "food_names=['chicken_friedrice','veg_friedrice','chicken_biryani','veg_biryani','icecreams','juices','chocolates','egg_dosa','egg_masala','panipuri']\n",
    "for n in food_names:\n",
    "    print(n)"
   ]
  },
  {
   "cell_type": "code",
   "execution_count": 7,
   "id": "5735991a",
   "metadata": {},
   "outputs": [
    {
     "name": "stdout",
     "output_type": "stream",
     "text": [
      "chicken_friedrice\n",
      "veg_friedrice\n",
      "chicken_biryani\n",
      "veg_biryani\n",
      "icecreams\n",
      "juices\n",
      "chocolates\n",
      "egg_dosa\n",
      "egg_masala\n",
      "panipuri\n"
     ]
    }
   ],
   "source": [
    "food_names2=('chicken_friedrice','veg_friedrice','chicken_biryani','veg_biryani','icecreams','juices','chocolates','egg_dosa','egg_masala','panipuri')\n",
    "for n in food_names2:\n",
    "    print(n)"
   ]
  },
  {
   "cell_type": "code",
   "execution_count": 8,
   "id": "05cb14df",
   "metadata": {},
   "outputs": [
    {
     "name": "stdout",
     "output_type": "stream",
     "text": [
      "red\n",
      "blue\n",
      "skyblue\n",
      "parrotgreen\n",
      "yellow\n",
      "white\n",
      "pink\n",
      "naviblue\n",
      "black\n",
      "babypink\n"
     ]
    }
   ],
   "source": [
    "colour_names={'black','blue','white','red','pink','naviblue','yellow','babypink','skyblue','parrotgreen'}\n",
    "for n in colour_names:\n",
    "    print(n)"
   ]
  },
  {
   "cell_type": "code",
   "execution_count": 9,
   "id": "bcbb860a",
   "metadata": {},
   "outputs": [
    {
     "name": "stdout",
     "output_type": "stream",
     "text": [
      "january\n",
      "february\n",
      "march\n",
      "april\n",
      "may\n",
      "june\n",
      "july\n",
      "august\n",
      "september\n",
      "october\n",
      "november\n",
      "december\n"
     ]
    }
   ],
   "source": [
    "month_names=['january','february','march','april','may','june','july','august','september','october','november','december']\n",
    "for n in month_names:\n",
    "    print(n)"
   ]
  },
  {
   "cell_type": "code",
   "execution_count": 2,
   "id": "de729389",
   "metadata": {},
   "outputs": [
    {
     "name": "stdout",
     "output_type": "stream",
     "text": [
      "9\n",
      "18\n",
      "27\n",
      "36\n",
      "45\n",
      "54\n",
      "63\n",
      "72\n",
      "81\n",
      "90\n"
     ]
    }
   ],
   "source": [
    "for s in range(9,91,9):\n",
    "    print(s)"
   ]
  },
  {
   "cell_type": "code",
   "execution_count": 3,
   "id": "40b53ae2",
   "metadata": {},
   "outputs": [
    {
     "name": "stdout",
     "output_type": "stream",
     "text": [
      "12\n",
      "24\n",
      "36\n",
      "48\n",
      "60\n",
      "72\n",
      "84\n",
      "96\n",
      "108\n",
      "120\n"
     ]
    }
   ],
   "source": [
    "for s in range(12,121,12):\n",
    "    print(s)"
   ]
  }
 ],
 "metadata": {
  "kernelspec": {
   "display_name": "Python 3 (ipykernel)",
   "language": "python",
   "name": "python3"
  },
  "language_info": {
   "codemirror_mode": {
    "name": "ipython",
    "version": 3
   },
   "file_extension": ".py",
   "mimetype": "text/x-python",
   "name": "python",
   "nbconvert_exporter": "python",
   "pygments_lexer": "ipython3",
   "version": "3.10.9"
  }
 },
 "nbformat": 4,
 "nbformat_minor": 5
}
