{
 "cells": [
  {
   "cell_type": "code",
   "execution_count": 1,
   "id": "2b292c1d",
   "metadata": {},
   "outputs": [],
   "source": [
    "import pandas as pd"
   ]
  },
  {
   "cell_type": "code",
   "execution_count": 3,
   "id": "b7e57863",
   "metadata": {},
   "outputs": [],
   "source": [
    "df=pd.read_excel(r\"E:\\durga79\\EXCEL_FILES\\friendsnamesq.xlsx\",sheet_name=\"Sheet1\")"
   ]
  },
  {
   "cell_type": "code",
   "execution_count": 4,
   "id": "40ccf28f",
   "metadata": {},
   "outputs": [
    {
     "data": {
      "text/html": [
       "<div>\n",
       "<style scoped>\n",
       "    .dataframe tbody tr th:only-of-type {\n",
       "        vertical-align: middle;\n",
       "    }\n",
       "\n",
       "    .dataframe tbody tr th {\n",
       "        vertical-align: top;\n",
       "    }\n",
       "\n",
       "    .dataframe thead th {\n",
       "        text-align: right;\n",
       "    }\n",
       "</style>\n",
       "<table border=\"1\" class=\"dataframe\">\n",
       "  <thead>\n",
       "    <tr style=\"text-align: right;\">\n",
       "      <th></th>\n",
       "      <th>friend_names</th>\n",
       "      <th>quality</th>\n",
       "    </tr>\n",
       "  </thead>\n",
       "  <tbody>\n",
       "    <tr>\n",
       "      <th>0</th>\n",
       "      <td>vani</td>\n",
       "      <td>funny</td>\n",
       "    </tr>\n",
       "    <tr>\n",
       "      <th>1</th>\n",
       "      <td>ayesha</td>\n",
       "      <td>funny</td>\n",
       "    </tr>\n",
       "    <tr>\n",
       "      <th>2</th>\n",
       "      <td>anusha</td>\n",
       "      <td>senstive</td>\n",
       "    </tr>\n",
       "    <tr>\n",
       "      <th>3</th>\n",
       "      <td>anitha</td>\n",
       "      <td>talktive</td>\n",
       "    </tr>\n",
       "    <tr>\n",
       "      <th>4</th>\n",
       "      <td>divya</td>\n",
       "      <td>talktive</td>\n",
       "    </tr>\n",
       "    <tr>\n",
       "      <th>5</th>\n",
       "      <td>akhila</td>\n",
       "      <td>intelligent</td>\n",
       "    </tr>\n",
       "    <tr>\n",
       "      <th>6</th>\n",
       "      <td>supraja</td>\n",
       "      <td>talktive</td>\n",
       "    </tr>\n",
       "    <tr>\n",
       "      <th>7</th>\n",
       "      <td>manoj</td>\n",
       "      <td>funny</td>\n",
       "    </tr>\n",
       "    <tr>\n",
       "      <th>8</th>\n",
       "      <td>harshad</td>\n",
       "      <td>talktive</td>\n",
       "    </tr>\n",
       "    <tr>\n",
       "      <th>9</th>\n",
       "      <td>ajay</td>\n",
       "      <td>funny</td>\n",
       "    </tr>\n",
       "  </tbody>\n",
       "</table>\n",
       "</div>"
      ],
      "text/plain": [
       "  friend_names      quality\n",
       "0         vani        funny\n",
       "1       ayesha        funny\n",
       "2       anusha     senstive\n",
       "3       anitha     talktive\n",
       "4        divya     talktive\n",
       "5       akhila  intelligent\n",
       "6      supraja     talktive\n",
       "7        manoj        funny\n",
       "8      harshad     talktive\n",
       "9         ajay        funny"
      ]
     },
     "execution_count": 4,
     "metadata": {},
     "output_type": "execute_result"
    }
   ],
   "source": [
    "df"
   ]
  },
  {
   "cell_type": "code",
   "execution_count": 5,
   "id": "4c7c8425",
   "metadata": {},
   "outputs": [],
   "source": [
    "df_intelligent=df[df[\"quality\"]==\"intelligent\"]"
   ]
  },
  {
   "cell_type": "code",
   "execution_count": 6,
   "id": "8fa5bccf",
   "metadata": {},
   "outputs": [
    {
     "data": {
      "text/html": [
       "<div>\n",
       "<style scoped>\n",
       "    .dataframe tbody tr th:only-of-type {\n",
       "        vertical-align: middle;\n",
       "    }\n",
       "\n",
       "    .dataframe tbody tr th {\n",
       "        vertical-align: top;\n",
       "    }\n",
       "\n",
       "    .dataframe thead th {\n",
       "        text-align: right;\n",
       "    }\n",
       "</style>\n",
       "<table border=\"1\" class=\"dataframe\">\n",
       "  <thead>\n",
       "    <tr style=\"text-align: right;\">\n",
       "      <th></th>\n",
       "      <th>friend_names</th>\n",
       "      <th>quality</th>\n",
       "    </tr>\n",
       "  </thead>\n",
       "  <tbody>\n",
       "    <tr>\n",
       "      <th>5</th>\n",
       "      <td>akhila</td>\n",
       "      <td>intelligent</td>\n",
       "    </tr>\n",
       "  </tbody>\n",
       "</table>\n",
       "</div>"
      ],
      "text/plain": [
       "  friend_names      quality\n",
       "5       akhila  intelligent"
      ]
     },
     "execution_count": 6,
     "metadata": {},
     "output_type": "execute_result"
    }
   ],
   "source": [
    "df_intelligent"
   ]
  },
  {
   "cell_type": "code",
   "execution_count": 7,
   "id": "f06c35ee",
   "metadata": {},
   "outputs": [],
   "source": [
    "df_funny=df[df[\"quality\"]==\"funny\"]"
   ]
  },
  {
   "cell_type": "code",
   "execution_count": 8,
   "id": "45ea5a2a",
   "metadata": {},
   "outputs": [
    {
     "data": {
      "text/html": [
       "<div>\n",
       "<style scoped>\n",
       "    .dataframe tbody tr th:only-of-type {\n",
       "        vertical-align: middle;\n",
       "    }\n",
       "\n",
       "    .dataframe tbody tr th {\n",
       "        vertical-align: top;\n",
       "    }\n",
       "\n",
       "    .dataframe thead th {\n",
       "        text-align: right;\n",
       "    }\n",
       "</style>\n",
       "<table border=\"1\" class=\"dataframe\">\n",
       "  <thead>\n",
       "    <tr style=\"text-align: right;\">\n",
       "      <th></th>\n",
       "      <th>friend_names</th>\n",
       "      <th>quality</th>\n",
       "    </tr>\n",
       "  </thead>\n",
       "  <tbody>\n",
       "    <tr>\n",
       "      <th>0</th>\n",
       "      <td>vani</td>\n",
       "      <td>funny</td>\n",
       "    </tr>\n",
       "    <tr>\n",
       "      <th>1</th>\n",
       "      <td>ayesha</td>\n",
       "      <td>funny</td>\n",
       "    </tr>\n",
       "    <tr>\n",
       "      <th>7</th>\n",
       "      <td>manoj</td>\n",
       "      <td>funny</td>\n",
       "    </tr>\n",
       "    <tr>\n",
       "      <th>9</th>\n",
       "      <td>ajay</td>\n",
       "      <td>funny</td>\n",
       "    </tr>\n",
       "  </tbody>\n",
       "</table>\n",
       "</div>"
      ],
      "text/plain": [
       "  friend_names quality\n",
       "0         vani   funny\n",
       "1       ayesha   funny\n",
       "7        manoj   funny\n",
       "9         ajay   funny"
      ]
     },
     "execution_count": 8,
     "metadata": {},
     "output_type": "execute_result"
    }
   ],
   "source": [
    "df_funny"
   ]
  },
  {
   "cell_type": "code",
   "execution_count": 10,
   "id": "42202202",
   "metadata": {},
   "outputs": [],
   "source": [
    "df=pd.read_excel(r\"E:\\durga79\\EXCEL_FILES\\friendsnamesq.xlsx\",sheet_name=\"Sheet2\")"
   ]
  },
  {
   "cell_type": "code",
   "execution_count": 11,
   "id": "1d02efca",
   "metadata": {},
   "outputs": [
    {
     "data": {
      "text/html": [
       "<div>\n",
       "<style scoped>\n",
       "    .dataframe tbody tr th:only-of-type {\n",
       "        vertical-align: middle;\n",
       "    }\n",
       "\n",
       "    .dataframe tbody tr th {\n",
       "        vertical-align: top;\n",
       "    }\n",
       "\n",
       "    .dataframe thead th {\n",
       "        text-align: right;\n",
       "    }\n",
       "</style>\n",
       "<table border=\"1\" class=\"dataframe\">\n",
       "  <thead>\n",
       "    <tr style=\"text-align: right;\">\n",
       "      <th></th>\n",
       "      <th>family_member_name</th>\n",
       "      <th>relation</th>\n",
       "    </tr>\n",
       "  </thead>\n",
       "  <tbody>\n",
       "    <tr>\n",
       "      <th>0</th>\n",
       "      <td>baburao</td>\n",
       "      <td>parent</td>\n",
       "    </tr>\n",
       "    <tr>\n",
       "      <th>1</th>\n",
       "      <td>dhanalakshmi</td>\n",
       "      <td>parent</td>\n",
       "    </tr>\n",
       "    <tr>\n",
       "      <th>2</th>\n",
       "      <td>srinivas</td>\n",
       "      <td>brother</td>\n",
       "    </tr>\n",
       "    <tr>\n",
       "      <th>3</th>\n",
       "      <td>sravani</td>\n",
       "      <td>sister</td>\n",
       "    </tr>\n",
       "    <tr>\n",
       "      <th>4</th>\n",
       "      <td>kumari</td>\n",
       "      <td>pinni</td>\n",
       "    </tr>\n",
       "    <tr>\n",
       "      <th>5</th>\n",
       "      <td>yedukondalu</td>\n",
       "      <td>babai</td>\n",
       "    </tr>\n",
       "    <tr>\n",
       "      <th>6</th>\n",
       "      <td>gayathri</td>\n",
       "      <td>sister</td>\n",
       "    </tr>\n",
       "    <tr>\n",
       "      <th>7</th>\n",
       "      <td>radha</td>\n",
       "      <td>pinni</td>\n",
       "    </tr>\n",
       "    <tr>\n",
       "      <th>8</th>\n",
       "      <td>durga</td>\n",
       "      <td>grandmother</td>\n",
       "    </tr>\n",
       "    <tr>\n",
       "      <th>9</th>\n",
       "      <td>subbarao</td>\n",
       "      <td>grandfather</td>\n",
       "    </tr>\n",
       "  </tbody>\n",
       "</table>\n",
       "</div>"
      ],
      "text/plain": [
       "  family_member_name     relation\n",
       "0            baburao       parent\n",
       "1       dhanalakshmi       parent\n",
       "2           srinivas      brother\n",
       "3            sravani       sister\n",
       "4             kumari        pinni\n",
       "5        yedukondalu        babai\n",
       "6           gayathri       sister\n",
       "7              radha        pinni\n",
       "8              durga  grandmother\n",
       "9           subbarao  grandfather"
      ]
     },
     "execution_count": 11,
     "metadata": {},
     "output_type": "execute_result"
    }
   ],
   "source": [
    "df"
   ]
  },
  {
   "cell_type": "code",
   "execution_count": 12,
   "id": "3d9617d3",
   "metadata": {},
   "outputs": [
    {
     "data": {
      "text/html": [
       "<div>\n",
       "<style scoped>\n",
       "    .dataframe tbody tr th:only-of-type {\n",
       "        vertical-align: middle;\n",
       "    }\n",
       "\n",
       "    .dataframe tbody tr th {\n",
       "        vertical-align: top;\n",
       "    }\n",
       "\n",
       "    .dataframe thead th {\n",
       "        text-align: right;\n",
       "    }\n",
       "</style>\n",
       "<table border=\"1\" class=\"dataframe\">\n",
       "  <thead>\n",
       "    <tr style=\"text-align: right;\">\n",
       "      <th></th>\n",
       "      <th>family_member_name</th>\n",
       "      <th>relation</th>\n",
       "    </tr>\n",
       "  </thead>\n",
       "  <tbody>\n",
       "    <tr>\n",
       "      <th>2</th>\n",
       "      <td>srinivas</td>\n",
       "      <td>brother</td>\n",
       "    </tr>\n",
       "    <tr>\n",
       "      <th>3</th>\n",
       "      <td>sravani</td>\n",
       "      <td>sister</td>\n",
       "    </tr>\n",
       "    <tr>\n",
       "      <th>6</th>\n",
       "      <td>gayathri</td>\n",
       "      <td>sister</td>\n",
       "    </tr>\n",
       "  </tbody>\n",
       "</table>\n",
       "</div>"
      ],
      "text/plain": [
       "  family_member_name relation\n",
       "2           srinivas  brother\n",
       "3            sravani   sister\n",
       "6           gayathri   sister"
      ]
     },
     "execution_count": 12,
     "metadata": {},
     "output_type": "execute_result"
    }
   ],
   "source": [
    "lst=[\"brother\",\"sister\"]\n",
    "df[df.relation.isin(lst)]"
   ]
  },
  {
   "cell_type": "code",
   "execution_count": 13,
   "id": "6581505a",
   "metadata": {},
   "outputs": [],
   "source": [
    "df_parent=df[df[\"relation\"]==\"parent\"]"
   ]
  },
  {
   "cell_type": "code",
   "execution_count": 14,
   "id": "f242bbb4",
   "metadata": {},
   "outputs": [
    {
     "data": {
      "text/html": [
       "<div>\n",
       "<style scoped>\n",
       "    .dataframe tbody tr th:only-of-type {\n",
       "        vertical-align: middle;\n",
       "    }\n",
       "\n",
       "    .dataframe tbody tr th {\n",
       "        vertical-align: top;\n",
       "    }\n",
       "\n",
       "    .dataframe thead th {\n",
       "        text-align: right;\n",
       "    }\n",
       "</style>\n",
       "<table border=\"1\" class=\"dataframe\">\n",
       "  <thead>\n",
       "    <tr style=\"text-align: right;\">\n",
       "      <th></th>\n",
       "      <th>family_member_name</th>\n",
       "      <th>relation</th>\n",
       "    </tr>\n",
       "  </thead>\n",
       "  <tbody>\n",
       "    <tr>\n",
       "      <th>0</th>\n",
       "      <td>baburao</td>\n",
       "      <td>parent</td>\n",
       "    </tr>\n",
       "    <tr>\n",
       "      <th>1</th>\n",
       "      <td>dhanalakshmi</td>\n",
       "      <td>parent</td>\n",
       "    </tr>\n",
       "  </tbody>\n",
       "</table>\n",
       "</div>"
      ],
      "text/plain": [
       "  family_member_name relation\n",
       "0            baburao   parent\n",
       "1       dhanalakshmi   parent"
      ]
     },
     "execution_count": 14,
     "metadata": {},
     "output_type": "execute_result"
    }
   ],
   "source": [
    "df_parent"
   ]
  },
  {
   "cell_type": "code",
   "execution_count": 15,
   "id": "f90dc8dc",
   "metadata": {},
   "outputs": [],
   "source": [
    "df_notparent=df[df['relation']!=\"parent\"]"
   ]
  },
  {
   "cell_type": "code",
   "execution_count": 16,
   "id": "5de317d5",
   "metadata": {},
   "outputs": [
    {
     "data": {
      "text/html": [
       "<div>\n",
       "<style scoped>\n",
       "    .dataframe tbody tr th:only-of-type {\n",
       "        vertical-align: middle;\n",
       "    }\n",
       "\n",
       "    .dataframe tbody tr th {\n",
       "        vertical-align: top;\n",
       "    }\n",
       "\n",
       "    .dataframe thead th {\n",
       "        text-align: right;\n",
       "    }\n",
       "</style>\n",
       "<table border=\"1\" class=\"dataframe\">\n",
       "  <thead>\n",
       "    <tr style=\"text-align: right;\">\n",
       "      <th></th>\n",
       "      <th>family_member_name</th>\n",
       "      <th>relation</th>\n",
       "    </tr>\n",
       "  </thead>\n",
       "  <tbody>\n",
       "    <tr>\n",
       "      <th>2</th>\n",
       "      <td>srinivas</td>\n",
       "      <td>brother</td>\n",
       "    </tr>\n",
       "    <tr>\n",
       "      <th>3</th>\n",
       "      <td>sravani</td>\n",
       "      <td>sister</td>\n",
       "    </tr>\n",
       "    <tr>\n",
       "      <th>4</th>\n",
       "      <td>kumari</td>\n",
       "      <td>pinni</td>\n",
       "    </tr>\n",
       "    <tr>\n",
       "      <th>5</th>\n",
       "      <td>yedukondalu</td>\n",
       "      <td>babai</td>\n",
       "    </tr>\n",
       "    <tr>\n",
       "      <th>6</th>\n",
       "      <td>gayathri</td>\n",
       "      <td>sister</td>\n",
       "    </tr>\n",
       "    <tr>\n",
       "      <th>7</th>\n",
       "      <td>radha</td>\n",
       "      <td>pinni</td>\n",
       "    </tr>\n",
       "    <tr>\n",
       "      <th>8</th>\n",
       "      <td>durga</td>\n",
       "      <td>grandmother</td>\n",
       "    </tr>\n",
       "    <tr>\n",
       "      <th>9</th>\n",
       "      <td>subbarao</td>\n",
       "      <td>grandfather</td>\n",
       "    </tr>\n",
       "  </tbody>\n",
       "</table>\n",
       "</div>"
      ],
      "text/plain": [
       "  family_member_name     relation\n",
       "2           srinivas      brother\n",
       "3            sravani       sister\n",
       "4             kumari        pinni\n",
       "5        yedukondalu        babai\n",
       "6           gayathri       sister\n",
       "7              radha        pinni\n",
       "8              durga  grandmother\n",
       "9           subbarao  grandfather"
      ]
     },
     "execution_count": 16,
     "metadata": {},
     "output_type": "execute_result"
    }
   ],
   "source": [
    "df_notparent"
   ]
  },
  {
   "cell_type": "code",
   "execution_count": 17,
   "id": "f6105db8",
   "metadata": {},
   "outputs": [
    {
     "data": {
      "text/html": [
       "<div>\n",
       "<style scoped>\n",
       "    .dataframe tbody tr th:only-of-type {\n",
       "        vertical-align: middle;\n",
       "    }\n",
       "\n",
       "    .dataframe tbody tr th {\n",
       "        vertical-align: top;\n",
       "    }\n",
       "\n",
       "    .dataframe thead th {\n",
       "        text-align: right;\n",
       "    }\n",
       "</style>\n",
       "<table border=\"1\" class=\"dataframe\">\n",
       "  <thead>\n",
       "    <tr style=\"text-align: right;\">\n",
       "      <th></th>\n",
       "      <th>family_member_name</th>\n",
       "      <th>relation</th>\n",
       "    </tr>\n",
       "  </thead>\n",
       "  <tbody>\n",
       "    <tr>\n",
       "      <th>0</th>\n",
       "      <td>baburao</td>\n",
       "      <td>parent</td>\n",
       "    </tr>\n",
       "    <tr>\n",
       "      <th>1</th>\n",
       "      <td>dhanalakshmi</td>\n",
       "      <td>parent</td>\n",
       "    </tr>\n",
       "    <tr>\n",
       "      <th>3</th>\n",
       "      <td>sravani</td>\n",
       "      <td>sister</td>\n",
       "    </tr>\n",
       "    <tr>\n",
       "      <th>4</th>\n",
       "      <td>kumari</td>\n",
       "      <td>pinni</td>\n",
       "    </tr>\n",
       "    <tr>\n",
       "      <th>5</th>\n",
       "      <td>yedukondalu</td>\n",
       "      <td>babai</td>\n",
       "    </tr>\n",
       "    <tr>\n",
       "      <th>6</th>\n",
       "      <td>gayathri</td>\n",
       "      <td>sister</td>\n",
       "    </tr>\n",
       "    <tr>\n",
       "      <th>7</th>\n",
       "      <td>radha</td>\n",
       "      <td>pinni</td>\n",
       "    </tr>\n",
       "    <tr>\n",
       "      <th>8</th>\n",
       "      <td>durga</td>\n",
       "      <td>grandmother</td>\n",
       "    </tr>\n",
       "    <tr>\n",
       "      <th>9</th>\n",
       "      <td>subbarao</td>\n",
       "      <td>grandfather</td>\n",
       "    </tr>\n",
       "  </tbody>\n",
       "</table>\n",
       "</div>"
      ],
      "text/plain": [
       "  family_member_name     relation\n",
       "0            baburao       parent\n",
       "1       dhanalakshmi       parent\n",
       "3            sravani       sister\n",
       "4             kumari        pinni\n",
       "5        yedukondalu        babai\n",
       "6           gayathri       sister\n",
       "7              radha        pinni\n",
       "8              durga  grandmother\n",
       "9           subbarao  grandfather"
      ]
     },
     "execution_count": 17,
     "metadata": {},
     "output_type": "execute_result"
    }
   ],
   "source": [
    "df_brother=df[df['relation']!=\"brother\"]\n",
    "df_brother"
   ]
  },
  {
   "cell_type": "code",
   "execution_count": 18,
   "id": "54dedf7d",
   "metadata": {},
   "outputs": [],
   "source": [
    "df_bro_parent=df[(df[\"relation\"]==\"parent\") | (df[\"relation\"]==\"brother\")]"
   ]
  },
  {
   "cell_type": "code",
   "execution_count": 19,
   "id": "86296399",
   "metadata": {},
   "outputs": [
    {
     "data": {
      "text/html": [
       "<div>\n",
       "<style scoped>\n",
       "    .dataframe tbody tr th:only-of-type {\n",
       "        vertical-align: middle;\n",
       "    }\n",
       "\n",
       "    .dataframe tbody tr th {\n",
       "        vertical-align: top;\n",
       "    }\n",
       "\n",
       "    .dataframe thead th {\n",
       "        text-align: right;\n",
       "    }\n",
       "</style>\n",
       "<table border=\"1\" class=\"dataframe\">\n",
       "  <thead>\n",
       "    <tr style=\"text-align: right;\">\n",
       "      <th></th>\n",
       "      <th>family_member_name</th>\n",
       "      <th>relation</th>\n",
       "    </tr>\n",
       "  </thead>\n",
       "  <tbody>\n",
       "    <tr>\n",
       "      <th>0</th>\n",
       "      <td>baburao</td>\n",
       "      <td>parent</td>\n",
       "    </tr>\n",
       "    <tr>\n",
       "      <th>1</th>\n",
       "      <td>dhanalakshmi</td>\n",
       "      <td>parent</td>\n",
       "    </tr>\n",
       "    <tr>\n",
       "      <th>2</th>\n",
       "      <td>srinivas</td>\n",
       "      <td>brother</td>\n",
       "    </tr>\n",
       "  </tbody>\n",
       "</table>\n",
       "</div>"
      ],
      "text/plain": [
       "  family_member_name relation\n",
       "0            baburao   parent\n",
       "1       dhanalakshmi   parent\n",
       "2           srinivas  brother"
      ]
     },
     "execution_count": 19,
     "metadata": {},
     "output_type": "execute_result"
    }
   ],
   "source": [
    "df_bro_parent"
   ]
  },
  {
   "cell_type": "code",
   "execution_count": 20,
   "id": "ac6482e1",
   "metadata": {},
   "outputs": [],
   "source": [
    "df_bro_parent=df[(df[\"relation\"]!=\"parent\") & (df[\"relation\"]!=\"brother\")]"
   ]
  },
  {
   "cell_type": "code",
   "execution_count": 21,
   "id": "241eded5",
   "metadata": {},
   "outputs": [
    {
     "data": {
      "text/html": [
       "<div>\n",
       "<style scoped>\n",
       "    .dataframe tbody tr th:only-of-type {\n",
       "        vertical-align: middle;\n",
       "    }\n",
       "\n",
       "    .dataframe tbody tr th {\n",
       "        vertical-align: top;\n",
       "    }\n",
       "\n",
       "    .dataframe thead th {\n",
       "        text-align: right;\n",
       "    }\n",
       "</style>\n",
       "<table border=\"1\" class=\"dataframe\">\n",
       "  <thead>\n",
       "    <tr style=\"text-align: right;\">\n",
       "      <th></th>\n",
       "      <th>family_member_name</th>\n",
       "      <th>relation</th>\n",
       "    </tr>\n",
       "  </thead>\n",
       "  <tbody>\n",
       "    <tr>\n",
       "      <th>3</th>\n",
       "      <td>sravani</td>\n",
       "      <td>sister</td>\n",
       "    </tr>\n",
       "    <tr>\n",
       "      <th>4</th>\n",
       "      <td>kumari</td>\n",
       "      <td>pinni</td>\n",
       "    </tr>\n",
       "    <tr>\n",
       "      <th>5</th>\n",
       "      <td>yedukondalu</td>\n",
       "      <td>babai</td>\n",
       "    </tr>\n",
       "    <tr>\n",
       "      <th>6</th>\n",
       "      <td>gayathri</td>\n",
       "      <td>sister</td>\n",
       "    </tr>\n",
       "    <tr>\n",
       "      <th>7</th>\n",
       "      <td>radha</td>\n",
       "      <td>pinni</td>\n",
       "    </tr>\n",
       "    <tr>\n",
       "      <th>8</th>\n",
       "      <td>durga</td>\n",
       "      <td>grandmother</td>\n",
       "    </tr>\n",
       "    <tr>\n",
       "      <th>9</th>\n",
       "      <td>subbarao</td>\n",
       "      <td>grandfather</td>\n",
       "    </tr>\n",
       "  </tbody>\n",
       "</table>\n",
       "</div>"
      ],
      "text/plain": [
       "  family_member_name     relation\n",
       "3            sravani       sister\n",
       "4             kumari        pinni\n",
       "5        yedukondalu        babai\n",
       "6           gayathri       sister\n",
       "7              radha        pinni\n",
       "8              durga  grandmother\n",
       "9           subbarao  grandfather"
      ]
     },
     "execution_count": 21,
     "metadata": {},
     "output_type": "execute_result"
    }
   ],
   "source": [
    "df_bro_parent"
   ]
  },
  {
   "cell_type": "code",
   "execution_count": 25,
   "id": "fc762008",
   "metadata": {},
   "outputs": [
    {
     "data": {
      "text/html": [
       "<div>\n",
       "<style scoped>\n",
       "    .dataframe tbody tr th:only-of-type {\n",
       "        vertical-align: middle;\n",
       "    }\n",
       "\n",
       "    .dataframe tbody tr th {\n",
       "        vertical-align: top;\n",
       "    }\n",
       "\n",
       "    .dataframe thead th {\n",
       "        text-align: right;\n",
       "    }\n",
       "</style>\n",
       "<table border=\"1\" class=\"dataframe\">\n",
       "  <thead>\n",
       "    <tr style=\"text-align: right;\">\n",
       "      <th></th>\n",
       "      <th>family_member_name</th>\n",
       "      <th>relation</th>\n",
       "    </tr>\n",
       "  </thead>\n",
       "  <tbody>\n",
       "  </tbody>\n",
       "</table>\n",
       "</div>"
      ],
      "text/plain": [
       "Empty DataFrame\n",
       "Columns: [family_member_name, relation]\n",
       "Index: []"
      ]
     },
     "execution_count": 25,
     "metadata": {},
     "output_type": "execute_result"
    }
   ],
   "source": [
    "df_bro_parent=df[(df[\"relation\"]==\"parent\") & (df[\"relation\"]==\"brother\")]\n",
    "df_bro_parent"
   ]
  },
  {
   "cell_type": "code",
   "execution_count": 22,
   "id": "393e29ce",
   "metadata": {},
   "outputs": [],
   "source": [
    "df_bro_parent=df[(df[\"relation\"]==\"brother\") & (df[\"family_member_name\"]==\"srinivas\")]"
   ]
  },
  {
   "cell_type": "code",
   "execution_count": 23,
   "id": "1569244c",
   "metadata": {},
   "outputs": [
    {
     "data": {
      "text/html": [
       "<div>\n",
       "<style scoped>\n",
       "    .dataframe tbody tr th:only-of-type {\n",
       "        vertical-align: middle;\n",
       "    }\n",
       "\n",
       "    .dataframe tbody tr th {\n",
       "        vertical-align: top;\n",
       "    }\n",
       "\n",
       "    .dataframe thead th {\n",
       "        text-align: right;\n",
       "    }\n",
       "</style>\n",
       "<table border=\"1\" class=\"dataframe\">\n",
       "  <thead>\n",
       "    <tr style=\"text-align: right;\">\n",
       "      <th></th>\n",
       "      <th>family_member_name</th>\n",
       "      <th>relation</th>\n",
       "    </tr>\n",
       "  </thead>\n",
       "  <tbody>\n",
       "    <tr>\n",
       "      <th>2</th>\n",
       "      <td>srinivas</td>\n",
       "      <td>brother</td>\n",
       "    </tr>\n",
       "  </tbody>\n",
       "</table>\n",
       "</div>"
      ],
      "text/plain": [
       "  family_member_name relation\n",
       "2           srinivas  brother"
      ]
     },
     "execution_count": 23,
     "metadata": {},
     "output_type": "execute_result"
    }
   ],
   "source": [
    "df_bro_parent"
   ]
  },
  {
   "cell_type": "code",
   "execution_count": null,
   "id": "b68baacb",
   "metadata": {},
   "outputs": [],
   "source": [
    "lst=['parent','brother']\n",
    "df[df.relation.isin(lst)]"
   ]
  },
  {
   "cell_type": "code",
   "execution_count": null,
   "id": "6f06e78b",
   "metadata": {},
   "outputs": [],
   "source": [
    "import pandas as pd"
   ]
  },
  {
   "cell_type": "code",
   "execution_count": null,
   "id": "927c4279",
   "metadata": {},
   "outputs": [],
   "source": [
    "df=pd.read_excel(r\"E:\\durga79\\friendsnamesq.xlsx\",sheet_name=\"Sheet3\")"
   ]
  },
  {
   "cell_type": "code",
   "execution_count": null,
   "id": "f8ec1d67",
   "metadata": {},
   "outputs": [],
   "source": [
    "df"
   ]
  },
  {
   "cell_type": "code",
   "execution_count": null,
   "id": "0c29a3c6",
   "metadata": {},
   "outputs": [],
   "source": [
    "lst=[\"badam_milk\",\"semya\"]\n",
    "df[df.vegfoodname.isin(lst)]"
   ]
  },
  {
   "cell_type": "code",
   "execution_count": null,
   "id": "9bca99a1",
   "metadata": {},
   "outputs": [],
   "source": [
    "lst=['pappu_tomato','mushroom_curry']\n",
    "df[df.vegfoodname.isin(lst)]"
   ]
  },
  {
   "cell_type": "code",
   "execution_count": null,
   "id": "1aeb2625",
   "metadata": {},
   "outputs": [],
   "source": [
    "df_fry=df[df[\"vegfoodname\"]==\"potatofry\"]"
   ]
  },
  {
   "cell_type": "code",
   "execution_count": null,
   "id": "7c19887c",
   "metadata": {},
   "outputs": [],
   "source": [
    "df_fry"
   ]
  },
  {
   "cell_type": "code",
   "execution_count": null,
   "id": "c1e7c346",
   "metadata": {},
   "outputs": [],
   "source": [
    "lst=[\"badam_milk\",\"semya\",\"potatofry\"]\n",
    "df[df.vegfoodname.isin(lst)]"
   ]
  },
  {
   "cell_type": "code",
   "execution_count": null,
   "id": "41ee004d",
   "metadata": {},
   "outputs": [],
   "source": [
    "lst=[\"badam_milk\",\"semya\",\"potatofry\"]\n",
    "df[~df.vegfoodname.isin(lst)]"
   ]
  },
  {
   "cell_type": "code",
   "execution_count": null,
   "id": "a1ca76ca",
   "metadata": {},
   "outputs": [],
   "source": [
    "\n",
    "df_soup_fry=df[(df[\"vegfoodname\"]==\"badam_milk\")|(df[\"vegfoodname\"]==\"semya\")|(df[\"vegfoodname\"]==\"potatofry\")]"
   ]
  },
  {
   "cell_type": "code",
   "execution_count": null,
   "id": "49dd4c7b",
   "metadata": {},
   "outputs": [],
   "source": [
    "df_soup_fry"
   ]
  },
  {
   "cell_type": "code",
   "execution_count": null,
   "id": "53b92aef",
   "metadata": {},
   "outputs": [],
   "source": [
    "import pandas as pd"
   ]
  },
  {
   "cell_type": "code",
   "execution_count": null,
   "id": "ec70013c",
   "metadata": {},
   "outputs": [],
   "source": [
    "df=pd.read_excel(r\"E:\\durga79\\friendsnamesq.xlsx\",sheet_name=\"Sheet4\")"
   ]
  },
  {
   "cell_type": "code",
   "execution_count": null,
   "id": "2e09b332",
   "metadata": {},
   "outputs": [],
   "source": [
    "df"
   ]
  },
  {
   "cell_type": "code",
   "execution_count": null,
   "id": "77063565",
   "metadata": {},
   "outputs": [],
   "source": [
    "lst=[\"chicken_biryani\",\"chicken_friedrice\",\"chicken_lolipop\",\"chicken_manchuriya\",\"grilled_chicken\"]\n",
    "df[df.nonveg_fooditems.isin(lst)]"
   ]
  },
  {
   "cell_type": "code",
   "execution_count": null,
   "id": "150c90fe",
   "metadata": {},
   "outputs": [],
   "source": [
    "df_mutton=df[df[\"nonveg_fooditems\"]==\"mutton_curry\"]"
   ]
  },
  {
   "cell_type": "code",
   "execution_count": null,
   "id": "6e6b992a",
   "metadata": {},
   "outputs": [],
   "source": [
    "df_mutton"
   ]
  },
  {
   "cell_type": "code",
   "execution_count": null,
   "id": "cb57dcb1",
   "metadata": {},
   "outputs": [],
   "source": [
    "lst=[\"fishfry\",\"prawns_fry\"]\n",
    "df[df.nonveg_fooditems.isin(lst)]"
   ]
  },
  {
   "cell_type": "code",
   "execution_count": null,
   "id": "76ed25dd",
   "metadata": {},
   "outputs": [],
   "source": [
    "lst=[\"chicken_biryani\",\"chicken_friedrice\",\"chicken_lolipop\",\"chicken_manchuriya\",\"grilled_chicken\",\"fishfry\",\"prawns_fry\"]\n",
    "df[df.nonveg_fooditems.isin(lst)]"
   ]
  },
  {
   "cell_type": "code",
   "execution_count": null,
   "id": "17d2f8bb",
   "metadata": {},
   "outputs": [],
   "source": [
    "lst=[\"chicken_biryani\",\"chicken_friedrice\",\"chicken_lolipop\",\"chicken_manchuriya\",\"grilled_chicken\",\"fishfry\",\"prawns_fry\"]\n",
    "df[~df.nonveg_fooditems.isin(lst)]"
   ]
  },
  {
   "cell_type": "code",
   "execution_count": null,
   "id": "794eac40",
   "metadata": {},
   "outputs": [],
   "source": [
    "df_fry_mutton=df[(df[\"nonveg_fooditems\"]==\"fishfry\")|(df[\"nonveg_fooditems\"]==\"prawns_fry\")|(df[\"nonveg_fooditems\"]==\"mutton_curry\")]\n"
   ]
  },
  {
   "cell_type": "code",
   "execution_count": null,
   "id": "c0be8ca3",
   "metadata": {},
   "outputs": [],
   "source": [
    "df_fry_mutton"
   ]
  },
  {
   "cell_type": "code",
   "execution_count": null,
   "id": "e28f3944",
   "metadata": {},
   "outputs": [],
   "source": [
    "import pandas as pd"
   ]
  },
  {
   "cell_type": "code",
   "execution_count": null,
   "id": "84cf5295",
   "metadata": {},
   "outputs": [],
   "source": [
    "df=pd.read_excel(r\"E:\\durga79\\friendsnamesq.xlsx\",sheet_name=\"Sheet5\")"
   ]
  },
  {
   "cell_type": "code",
   "execution_count": null,
   "id": "6bc1ea2e",
   "metadata": {},
   "outputs": [],
   "source": [
    "df"
   ]
  },
  {
   "cell_type": "code",
   "execution_count": null,
   "id": "dad6fda3",
   "metadata": {},
   "outputs": [],
   "source": [
    "df_winter=df[df[\"season\"]==\"winter\"]"
   ]
  },
  {
   "cell_type": "code",
   "execution_count": null,
   "id": "4b2005d9",
   "metadata": {},
   "outputs": [],
   "source": [
    "df_winter"
   ]
  },
  {
   "cell_type": "code",
   "execution_count": null,
   "id": "7a539ef2",
   "metadata": {},
   "outputs": [],
   "source": [
    "df_summer=df[df[\"season\"]==\"summer\"]\n",
    "df_summer"
   ]
  },
  {
   "cell_type": "code",
   "execution_count": null,
   "id": "8cd6ad15",
   "metadata": {},
   "outputs": [],
   "source": [
    "df_rainy_season=df[df[\"season\"]==\"rainy_season\"]\n",
    "df_rainy_season"
   ]
  },
  {
   "cell_type": "code",
   "execution_count": null,
   "id": "efd063ea",
   "metadata": {},
   "outputs": [],
   "source": [
    "lst=[\"winter\",\"summer\"]\n",
    "df[df.season.isin(lst)]"
   ]
  },
  {
   "cell_type": "code",
   "execution_count": null,
   "id": "3c21bad0",
   "metadata": {},
   "outputs": [],
   "source": [
    "lst=[\"rainy_season\",\"summer\"]\n",
    "df[~df.season.isin(lst)]"
   ]
  },
  {
   "cell_type": "code",
   "execution_count": null,
   "id": "7191bbc9",
   "metadata": {},
   "outputs": [],
   "source": [
    "df_win_rainy=df[(df[\"season\"]==\"winter\")|(df[\"season\"]==\"rainy_season\")]"
   ]
  },
  {
   "cell_type": "code",
   "execution_count": null,
   "id": "f1a6e468",
   "metadata": {},
   "outputs": [],
   "source": [
    "df_win_rainy"
   ]
  },
  {
   "cell_type": "code",
   "execution_count": null,
   "id": "ee1b1de8",
   "metadata": {},
   "outputs": [],
   "source": [
    "import pandas as pd"
   ]
  },
  {
   "cell_type": "code",
   "execution_count": null,
   "id": "40c580e5",
   "metadata": {},
   "outputs": [],
   "source": [
    "df=pd.read_excel(r\"E:\\durga79\\friendsnamesq.xlsx\",sheet_name=\"Sheet7\")"
   ]
  },
  {
   "cell_type": "code",
   "execution_count": null,
   "id": "cf46b237",
   "metadata": {
    "scrolled": false
   },
   "outputs": [],
   "source": [
    "df"
   ]
  },
  {
   "cell_type": "code",
   "execution_count": null,
   "id": "4a8e6e22",
   "metadata": {},
   "outputs": [],
   "source": [
    "lst=[\"rose\",\"hibiscus\"]\n",
    "df[df.flower_name.isin(lst)]"
   ]
  },
  {
   "cell_type": "code",
   "execution_count": null,
   "id": "d1540541",
   "metadata": {},
   "outputs": [],
   "source": [
    "lst=[\"lilly\",\"jasmine\",]\n",
    "df[df.flower_name.isin(lst)]"
   ]
  },
  {
   "cell_type": "code",
   "execution_count": null,
   "id": "5af27ce7",
   "metadata": {},
   "outputs": [],
   "source": [
    "lst=[\"lotus\",\"balsam\",\"periwinkle\",\"tulip\"]\n",
    "df[df.flower_name.isin(lst)]"
   ]
  },
  {
   "cell_type": "code",
   "execution_count": null,
   "id": "453d43c6",
   "metadata": {},
   "outputs": [],
   "source": [
    "lst=[\"lotus\",\"balsam\",\"periwinkle\",\"tulip\",\"rose\",\"hibiscus\"]\n",
    "df[df.flower_name.isin(lst)]"
   ]
  },
  {
   "cell_type": "code",
   "execution_count": null,
   "id": "2c23d752",
   "metadata": {},
   "outputs": [],
   "source": [
    "lst=[\"red\",\"pink\"]\n",
    "df[df.llower_colour_name_english.isin(lst)]"
   ]
  },
  {
   "cell_type": "code",
   "execution_count": null,
   "id": "03559564",
   "metadata": {},
   "outputs": [],
   "source": [
    "lst=[\"red\",\"white\"]\n",
    "df[df.llower_colour_name_english.isin(lst)]"
   ]
  },
  {
   "cell_type": "code",
   "execution_count": null,
   "id": "a352d5e0",
   "metadata": {},
   "outputs": [],
   "source": [
    "df_red_pink=df[(df[\"llower_colour_name_english\"]==\"red\")|(df[\"llower_colour_name_english\"]==\"pink\")]"
   ]
  },
  {
   "cell_type": "code",
   "execution_count": null,
   "id": "6a886349",
   "metadata": {},
   "outputs": [],
   "source": [
    "df_red_pink"
   ]
  },
  {
   "cell_type": "code",
   "execution_count": null,
   "id": "0ea72302",
   "metadata": {},
   "outputs": [],
   "source": []
  },
  {
   "cell_type": "code",
   "execution_count": null,
   "id": "0350be72",
   "metadata": {},
   "outputs": [],
   "source": []
  }
 ],
 "metadata": {
  "kernelspec": {
   "display_name": "Python 3 (ipykernel)",
   "language": "python",
   "name": "python3"
  },
  "language_info": {
   "codemirror_mode": {
    "name": "ipython",
    "version": 3
   },
   "file_extension": ".py",
   "mimetype": "text/x-python",
   "name": "python",
   "nbconvert_exporter": "python",
   "pygments_lexer": "ipython3",
   "version": "3.10.9"
  }
 },
 "nbformat": 4,
 "nbformat_minor": 5
}
