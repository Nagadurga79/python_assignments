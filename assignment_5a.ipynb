{
 "cells": [
  {
   "cell_type": "code",
   "execution_count": 2,
   "id": "2bfe2680",
   "metadata": {},
   "outputs": [],
   "source": [
    "dictt={\"family-members\":['baburao','dhanalakshmi','srinivas','sravani','nagadurga','gayathri','kumari','yedukondalu','durga','subbarao']}"
   ]
  },
  {
   "cell_type": "code",
   "execution_count": 4,
   "id": "7cc6e6a3",
   "metadata": {},
   "outputs": [
    {
     "name": "stdout",
     "output_type": "stream",
     "text": [
      "{'family-members': ['baburao', 'dhanalakshmi', 'srinivas', 'sravani', 'nagadurga', 'gayathri', 'kumari', 'yedukondalu', 'durga', 'subbarao']}\n"
     ]
    }
   ],
   "source": [
    "print(dictt)"
   ]
  },
  {
   "cell_type": "code",
   "execution_count": 2,
   "id": "b4cca8b7",
   "metadata": {},
   "outputs": [],
   "source": [
    "dictt={'family-members':['baburao','dhanalakshmi','srinivas','sravani','nagadurga','gayathri','kumari','yedukondalu','durga','subbarao'],'relation':['father','mother','brother','sister','me','sister','pinni','babai','grandmother','grandfather']}"
   ]
  },
  {
   "cell_type": "code",
   "execution_count": 3,
   "id": "9909cc20",
   "metadata": {},
   "outputs": [
    {
     "name": "stdout",
     "output_type": "stream",
     "text": [
      "{'family-members': ['baburao', 'dhanalakshmi', 'srinivas', 'sravani', 'nagadurga', 'gayathri', 'kumari', 'yedukondalu', 'durga', 'subbarao'], 'relation': ['father', 'mother', 'brother', 'sister', 'me', 'sister', 'pinni', 'babai', 'grandmother', 'grandfather']}\n"
     ]
    }
   ],
   "source": [
    "print(dictt)"
   ]
  },
  {
   "cell_type": "code",
   "execution_count": 4,
   "id": "be716153",
   "metadata": {},
   "outputs": [
    {
     "data": {
      "text/plain": [
       "'baburao'"
      ]
     },
     "execution_count": 4,
     "metadata": {},
     "output_type": "execute_result"
    }
   ],
   "source": [
    "dictt['family-members'][0]"
   ]
  },
  {
   "cell_type": "code",
   "execution_count": 7,
   "id": "b493d3f5",
   "metadata": {},
   "outputs": [
    {
     "name": "stdout",
     "output_type": "stream",
     "text": [
      "my father name is  baburao\n"
     ]
    }
   ],
   "source": [
    "print(\"my father name is \",dictt['family-members'][0])"
   ]
  },
  {
   "cell_type": "code",
   "execution_count": 5,
   "id": "2189025e",
   "metadata": {},
   "outputs": [
    {
     "data": {
      "text/plain": [
       "'sravani'"
      ]
     },
     "execution_count": 5,
     "metadata": {},
     "output_type": "execute_result"
    }
   ],
   "source": [
    "dictt['family-members'][3]"
   ]
  },
  {
   "cell_type": "code",
   "execution_count": 6,
   "id": "5f8cc646",
   "metadata": {},
   "outputs": [
    {
     "name": "stdout",
     "output_type": "stream",
     "text": [
      " my favourite family member is sravani\n"
     ]
    }
   ],
   "source": [
    "print(\" my favourite family member is\",dictt['family-members'][3])"
   ]
  },
  {
   "cell_type": "code",
   "execution_count": 1,
   "id": "d456af09",
   "metadata": {},
   "outputs": [],
   "source": [
    "dictt={'friend-names':['ayesha','vani','anusha','akhila','supraja'],'qualities':['funny','always-smiling','always-joking','intelligent','funny']}"
   ]
  },
  {
   "cell_type": "code",
   "execution_count": 2,
   "id": "f54ae2b2",
   "metadata": {},
   "outputs": [
    {
     "name": "stdout",
     "output_type": "stream",
     "text": [
      "{'friend-names': ['ayesha', 'vani', 'anusha', 'akhila', 'supraja'], 'qualities': ['funny', 'always-smiling', 'always-joking', 'intelligent', 'funny']}\n"
     ]
    }
   ],
   "source": [
    "print(dictt)"
   ]
  },
  {
   "cell_type": "code",
   "execution_count": 11,
   "id": "c679481f",
   "metadata": {},
   "outputs": [
    {
     "data": {
      "text/plain": [
       "'akhila'"
      ]
     },
     "execution_count": 11,
     "metadata": {},
     "output_type": "execute_result"
    }
   ],
   "source": [
    "dictt['friend-names'][3]"
   ]
  },
  {
   "cell_type": "code",
   "execution_count": 12,
   "id": "7e2c446d",
   "metadata": {},
   "outputs": [
    {
     "name": "stdout",
     "output_type": "stream",
     "text": [
      "my intelligent friend name is akhila\n"
     ]
    }
   ],
   "source": [
    "print(\"my intelligent friend name is\",dictt['friend-names'][3])"
   ]
  },
  {
   "cell_type": "code",
   "execution_count": 28,
   "id": "c7e9ffab",
   "metadata": {},
   "outputs": [
    {
     "data": {
      "text/plain": [
       "['ayesha', 'vani']"
      ]
     },
     "execution_count": 28,
     "metadata": {},
     "output_type": "execute_result"
    }
   ],
   "source": [
    "dictt['friend-names'][0:2]"
   ]
  },
  {
   "cell_type": "code",
   "execution_count": 13,
   "id": "15355d4e",
   "metadata": {},
   "outputs": [
    {
     "name": "stdout",
     "output_type": "stream",
     "text": [
      "my best friends names is ['ayesha', 'vani']\n"
     ]
    }
   ],
   "source": [
    "print(\"my best friends names is\",dictt['friend-names'][0:2])"
   ]
  },
  {
   "cell_type": "code",
   "execution_count": 45,
   "id": "e1de19ab",
   "metadata": {},
   "outputs": [
    {
     "name": "stdout",
     "output_type": "stream",
     "text": [
      "{'veg-items': ['veg-friedrice', 'pappu-tomato', 'sambar', 'butternon-with-punneer', 'mushroom'], 'rating': [5, 1, 5, 5, 5]}\n"
     ]
    }
   ],
   "source": [
    "dictt={'veg-items':['veg-friedrice','pappu-tomato','sambar','butternon-with-punneer','mushroom'],'rating':[5,1,5,5,5]}\n",
    "print(dictt)"
   ]
  },
  {
   "cell_type": "code",
   "execution_count": 46,
   "id": "16e2b323",
   "metadata": {},
   "outputs": [
    {
     "data": {
      "text/plain": [
       "'pappu-tomato'"
      ]
     },
     "execution_count": 46,
     "metadata": {},
     "output_type": "execute_result"
    }
   ],
   "source": [
    "dictt['veg-items'][1]"
   ]
  },
  {
   "cell_type": "code",
   "execution_count": 1,
   "id": "bd0031f6",
   "metadata": {},
   "outputs": [
    {
     "name": "stdout",
     "output_type": "stream",
     "text": [
      "{'nonveg-items': ['egg-friedrice', 'chickenbiryani', 'egg-masala', 'mutton-biryani', 'omblet'], 'rating': [5, 5, 5, 4, 1]}\n"
     ]
    }
   ],
   "source": [
    "dictt={'nonveg-items':['egg-friedrice','chickenbiryani','egg-masala','mutton-biryani','omblet'],'rating':[5,5,5,4,1]}\n",
    "print(dictt)"
   ]
  },
  {
   "cell_type": "code",
   "execution_count": 3,
   "id": "818a964f",
   "metadata": {},
   "outputs": [
    {
     "data": {
      "text/plain": [
       "'omblet'"
      ]
     },
     "execution_count": 3,
     "metadata": {},
     "output_type": "execute_result"
    }
   ],
   "source": [
    "dictt['nonveg-items'][4]"
   ]
  },
  {
   "cell_type": "code",
   "execution_count": 42,
   "id": "bfeee31c",
   "metadata": {},
   "outputs": [
    {
     "name": "stdout",
     "output_type": "stream",
     "text": [
      "{'destination': ['hyderabad', 'thirupathi', 'chennai', 'bengaloore', 'vizag'], 'rating': [5, 5, 4, 3, 4]}\n"
     ]
    }
   ],
   "source": [
    "dictt={'destination':['hyderabad','thirupathi','chennai','bengaloore','vizag'],'rating':[5,5,4,3,4]}\n",
    "print(dictt)"
   ]
  },
  {
   "cell_type": "code",
   "execution_count": 43,
   "id": "fb4962c1",
   "metadata": {},
   "outputs": [
    {
     "data": {
      "text/plain": [
       "'bengaloore'"
      ]
     },
     "execution_count": 43,
     "metadata": {},
     "output_type": "execute_result"
    }
   ],
   "source": [
    "dictt['destination'][3]"
   ]
  },
  {
   "cell_type": "code",
   "execution_count": null,
   "id": "3d1d167a",
   "metadata": {},
   "outputs": [],
   "source": []
  }
 ],
 "metadata": {
  "kernelspec": {
   "display_name": "Python 3 (ipykernel)",
   "language": "python",
   "name": "python3"
  },
  "language_info": {
   "codemirror_mode": {
    "name": "ipython",
    "version": 3
   },
   "file_extension": ".py",
   "mimetype": "text/x-python",
   "name": "python",
   "nbconvert_exporter": "python",
   "pygments_lexer": "ipython3",
   "version": "3.10.9"
  }
 },
 "nbformat": 4,
 "nbformat_minor": 5
}
