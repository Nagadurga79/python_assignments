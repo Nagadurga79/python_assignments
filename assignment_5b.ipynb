{
 "cells": [
  {
   "cell_type": "code",
   "execution_count": 6,
   "id": "7d2568e3",
   "metadata": {},
   "outputs": [
    {
     "name": "stdout",
     "output_type": "stream",
     "text": [
      "teen_age\n"
     ]
    }
   ],
   "source": [
    "age=20\n",
    "if age>10:\n",
    "    print('teen_age')\n",
    "else:\n",
    "    print('young_age')"
   ]
  },
  {
   "cell_type": "code",
   "execution_count": 9,
   "id": "d000e036",
   "metadata": {},
   "outputs": [
    {
     "name": "stdout",
     "output_type": "stream",
     "text": [
      "young_age\n"
     ]
    }
   ],
   "source": [
    "age=30\n",
    "if age>20:\n",
    "    print('young_age')\n",
    "else:\n",
    "    print('teen_age')"
   ]
  },
  {
   "cell_type": "code",
   "execution_count": 14,
   "id": "c3507641",
   "metadata": {},
   "outputs": [
    {
     "name": "stdout",
     "output_type": "stream",
     "text": [
      "children\n"
     ]
    }
   ],
   "source": [
    "age=10\n",
    "if age>20:\n",
    "    print('teen_age')\n",
    "else:\n",
    "    print('children')"
   ]
  },
  {
   "cell_type": "code",
   "execution_count": 15,
   "id": "2187ff56",
   "metadata": {},
   "outputs": [
    {
     "name": "stdout",
     "output_type": "stream",
     "text": [
      "middle_age\n"
     ]
    }
   ],
   "source": [
    "age=40\n",
    "if age>20:\n",
    "    print('middle_age')\n",
    "else:\n",
    "    print('teen_age')"
   ]
  },
  {
   "cell_type": "code",
   "execution_count": 14,
   "id": "a22ed200",
   "metadata": {},
   "outputs": [
    {
     "name": "stdout",
     "output_type": "stream",
     "text": [
      "i am profitable\n"
     ]
    }
   ],
   "source": [
    "#scenario1:\n",
    "today_income=20\n",
    "if today_income>10:\n",
    "    print('i am profitable')   \n",
    "else:\n",
    "    print('i lost')"
   ]
  },
  {
   "cell_type": "code",
   "execution_count": 19,
   "id": "352242ea",
   "metadata": {},
   "outputs": [
    {
     "name": "stdout",
     "output_type": "stream",
     "text": [
      "i am elder\n"
     ]
    }
   ],
   "source": [
    "#scenario2:\n",
    "\n",
    "age=22\n",
    "if age>19:\n",
    "    print('i am elder')\n",
    "else:\n",
    "    print('i am younger')    \n"
   ]
  },
  {
   "cell_type": "code",
   "execution_count": 36,
   "id": "bcc03b86",
   "metadata": {},
   "outputs": [
    {
     "name": "stdout",
     "output_type": "stream",
     "text": [
      "30% discount\n"
     ]
    }
   ],
   "source": [
    "#scenario3:\n",
    "purchase_amount==150\n",
    "if purchase_amount>100:\n",
    "    print('30% discount')\n",
    "elif purchase_amount<50:\n",
    "    print('10% discount')\n",
    "else:\n",
    "    print('20% discount')\n"
   ]
  },
  {
   "cell_type": "code",
   "execution_count": 9,
   "id": "38d09830",
   "metadata": {},
   "outputs": [
    {
     "name": "stdout",
     "output_type": "stream",
     "text": [
      "bench\n"
     ]
    }
   ],
   "source": [
    "#scenario4:\n",
    "ticket_price=100\n",
    "if ticket_price==140:\n",
    "    print('balcony')\n",
    "elif ticket_price==50:\n",
    "    print('chair')\n",
    "elif ticket_price==100:\n",
    "    print('bench')\n",
    "else:\n",
    "    print('not available')\n"
   ]
  },
  {
   "cell_type": "code",
   "execution_count": 3,
   "id": "746f1a80",
   "metadata": {},
   "outputs": [
    {
     "name": "stdout",
     "output_type": "stream",
     "text": [
      "bike and scooty\n"
     ]
    }
   ],
   "source": [
    "#scenario5:\n",
    "vehicle_type='two wheelar'\n",
    "if vehicle_type=='four wheeler':\n",
    "    print('car,lorry,van,and zeep')\n",
    "elif vehicle_type==\"two wheelar\":\n",
    "    print('bike and scooty')\n",
    "else:\n",
    "    print('not available')\n",
    "\n"
   ]
  },
  {
   "cell_type": "code",
   "execution_count": 6,
   "id": "7b452f44",
   "metadata": {},
   "outputs": [
    {
     "name": "stdout",
     "output_type": "stream",
     "text": [
      "today is weekday\n"
     ]
    }
   ],
   "source": [
    "week=\"tuesday\"\n",
    "if week==\"monday\":\n",
    "    print(\"today is weekday\")\n",
    "elif week==\"tuesday\":\n",
    "     print(\"today is weekday\")\n",
    "elif week==\"wednesday\":\n",
    "    print(\"today is weekday\")\n",
    "elif week==\"thursday\":\n",
    "    print(\"today is weekday\")    \n",
    "elif week==\"friday\":\n",
    "    print(\"today is weekday\")\n",
    "elif week==\"saturday\":\n",
    "    print(\"today is weekend\")\n",
    "else:\n",
    "    week==\"sunday\"\n",
    "\n",
    "    print(\"today is weekend\")\n",
    "     \n",
    "    \n",
    "    "
   ]
  },
  {
   "cell_type": "code",
   "execution_count": 7,
   "id": "41e8404c",
   "metadata": {},
   "outputs": [
    {
     "name": "stdout",
     "output_type": "stream",
     "text": [
      "i lost\n"
     ]
    }
   ],
   "source": [
    "my_income=10\n",
    "if my_income>10:\n",
    "    print(\"i am profitable\")\n",
    "else:\n",
    "    print(\"i lost\")"
   ]
  },
  {
   "cell_type": "code",
   "execution_count": null,
   "id": "34fca289",
   "metadata": {},
   "outputs": [],
   "source": []
  },
  {
   "cell_type": "code",
   "execution_count": 10,
   "id": "d549e3d2",
   "metadata": {},
   "outputs": [
    {
     "name": "stdout",
     "output_type": "stream",
     "text": [
      "64\n"
     ]
    }
   ],
   "source": [
    "a=25\n",
    "b=64\n",
    "if a>b:\n",
    "    number=a\n",
    "    print(number)\n",
    "elif a<b:\n",
    "    number=b\n",
    "    print(number)\n"
   ]
  },
  {
   "cell_type": "code",
   "execution_count": null,
   "id": "cdee519f",
   "metadata": {},
   "outputs": [],
   "source": []
  },
  {
   "cell_type": "code",
   "execution_count": null,
   "id": "adca2dbe",
   "metadata": {},
   "outputs": [],
   "source": []
  },
  {
   "cell_type": "code",
   "execution_count": null,
   "id": "897c83d2",
   "metadata": {},
   "outputs": [],
   "source": []
  },
  {
   "cell_type": "code",
   "execution_count": null,
   "id": "157e4504",
   "metadata": {},
   "outputs": [],
   "source": []
  },
  {
   "cell_type": "code",
   "execution_count": null,
   "id": "f6dc9866",
   "metadata": {},
   "outputs": [],
   "source": []
  }
 ],
 "metadata": {
  "kernelspec": {
   "display_name": "Python 3 (ipykernel)",
   "language": "python",
   "name": "python3"
  },
  "language_info": {
   "codemirror_mode": {
    "name": "ipython",
    "version": 3
   },
   "file_extension": ".py",
   "mimetype": "text/x-python",
   "name": "python",
   "nbconvert_exporter": "python",
   "pygments_lexer": "ipython3",
   "version": "3.10.9"
  }
 },
 "nbformat": 4,
 "nbformat_minor": 5
}
